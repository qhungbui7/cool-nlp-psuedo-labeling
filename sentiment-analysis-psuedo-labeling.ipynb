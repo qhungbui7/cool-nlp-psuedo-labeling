{
 "cells": [
  {
   "cell_type": "code",
   "execution_count": 1,
   "id": "d3f3f7e5",
   "metadata": {
    "_cell_guid": "5e78b2dc-f7a0-47bf-a55e-0089754544d6",
    "_uuid": "a7af4331-f16f-48e8-8736-7f26de55ec48",
    "collapsed": false,
    "execution": {
     "iopub.execute_input": "2022-10-12T10:23:50.817115Z",
     "iopub.status.busy": "2022-10-12T10:23:50.816189Z",
     "iopub.status.idle": "2022-10-12T10:23:53.411433Z",
     "shell.execute_reply": "2022-10-12T10:23:53.410443Z"
    },
    "jupyter": {
     "outputs_hidden": false
    },
    "papermill": {
     "duration": 2.613764,
     "end_time": "2022-10-12T10:23:53.414012",
     "exception": false,
     "start_time": "2022-10-12T10:23:50.800248",
     "status": "completed"
    },
    "tags": []
   },
   "outputs": [],
   "source": [
    "import torch\n",
    "from torch.utils.data import Dataset, DataLoader\n",
    "from torch.optim import AdamW\n",
    "\n",
    "from torch import nn\n",
    "import torch.nn.functional as F\n",
    "import torchmetrics \n",
    "from torch.optim.lr_scheduler import _LRScheduler\n",
    "from torch.nn.modules.loss import _Loss"
   ]
  },
  {
   "cell_type": "markdown",
   "id": "fe16af14",
   "metadata": {
    "papermill": {
     "duration": 0.005999,
     "end_time": "2022-10-12T10:23:53.426506",
     "exception": false,
     "start_time": "2022-10-12T10:23:53.420507",
     "status": "completed"
    },
    "tags": []
   },
   "source": [
    "## Arcface should be trained for the model which is not used for explicitly classification inference (without labeling)"
   ]
  },
  {
   "cell_type": "code",
   "execution_count": 2,
   "id": "3a05c25d",
   "metadata": {
    "execution": {
     "iopub.execute_input": "2022-10-12T10:23:53.441873Z",
     "iopub.status.busy": "2022-10-12T10:23:53.440213Z",
     "iopub.status.idle": "2022-10-12T10:23:53.446547Z",
     "shell.execute_reply": "2022-10-12T10:23:53.445653Z"
    },
    "papermill": {
     "duration": 0.015605,
     "end_time": "2022-10-12T10:23:53.448515",
     "exception": false,
     "start_time": "2022-10-12T10:23:53.432910",
     "status": "completed"
    },
    "tags": []
   },
   "outputs": [],
   "source": [
    "import transformers\n",
    "from transformers import AutoTokenizer, AutoModel"
   ]
  },
  {
   "cell_type": "code",
   "execution_count": 3,
   "id": "3ba61e96",
   "metadata": {
    "execution": {
     "iopub.execute_input": "2022-10-12T10:23:53.462436Z",
     "iopub.status.busy": "2022-10-12T10:23:53.461549Z",
     "iopub.status.idle": "2022-10-12T10:23:53.466764Z",
     "shell.execute_reply": "2022-10-12T10:23:53.465750Z"
    },
    "papermill": {
     "duration": 0.014083,
     "end_time": "2022-10-12T10:23:53.468663",
     "exception": false,
     "start_time": "2022-10-12T10:23:53.454580",
     "status": "completed"
    },
    "tags": []
   },
   "outputs": [],
   "source": [
    "import os\n",
    "os.environ[\"TOKENIZERS_PARALLELISM\"] = \"false\"\n",
    "\n",
    "import pandas as pd\n",
    "import numpy as np\n",
    "import random \n",
    "import math\n",
    "from tqdm import tqdm\n"
   ]
  },
  {
   "cell_type": "code",
   "execution_count": 4,
   "id": "115fa790",
   "metadata": {
    "execution": {
     "iopub.execute_input": "2022-10-12T10:23:53.482121Z",
     "iopub.status.busy": "2022-10-12T10:23:53.481852Z",
     "iopub.status.idle": "2022-10-12T10:23:53.550523Z",
     "shell.execute_reply": "2022-10-12T10:23:53.549685Z"
    },
    "papermill": {
     "duration": 0.077479,
     "end_time": "2022-10-12T10:23:53.552450",
     "exception": false,
     "start_time": "2022-10-12T10:23:53.474971",
     "status": "completed"
    },
    "tags": []
   },
   "outputs": [],
   "source": [
    "class GlobalConstantsConfigure():\n",
    "    def __init__(self):\n",
    "        \n",
    "        self.is_debug = True # False\n",
    "        self.run_name = ''# 'finetune_no_selfie_resnet50_0.08_cifar10_cosface'\n",
    "        self.id_num = 22\n",
    "        self.debug_num = 28\n",
    "        self.continue_training = False\n",
    "        self.num_epochs_done = 0\n",
    "        self.last_model = '../input/selfie-transformer-pretraining-models/pretraining-new_selfie_add_label_smoothing_19.pt'\n",
    "        self.pl_dir = '../input/imdb-dataset-csv-psuedo-labeling/pl_df.csv'\n",
    "        self.original_testing_dir = '../input/imdb-dataset-sentiment-analysis-in-csv-format/Test.csv'\n",
    "\n",
    "        self.seed = 127 # 107\n",
    "        self.fold = 1\n",
    "        self.num_folds = 4\n",
    "        self.biggest_loss = np.Inf \n",
    "\n",
    "        \n",
    "        self.training_dir = ''\n",
    "        self.model_name = 'xlm-roberta-base' #'tf_efficientnet_b4'\n",
    "        self.model_path = f'./{self.model_name}.pt'\n",
    "        \n",
    "        \n",
    "        self.lr = 1e-6 # 1e-6\n",
    "        self.lr_decay_rate = 0.8\n",
    "        self.num_epochs = 1 # 70 \n",
    "        self.batch_size = 64 # 32 # 16\n",
    "        self.val_batch_size = 256\n",
    "        self.label_smoothing = 0.0\n",
    "        self.num_epochs_per_decay = 20\n",
    "        self.patch_size = 14\n",
    "        \n",
    "        self.num_classes = 2\n",
    "        self.device = torch.device('cuda') if torch.cuda.is_available() else torch.device('cpu')\n",
    "        self.num_workers = 2  # if torch.cuda.is_available() else 4\n",
    "        \n",
    "        self.max_length = 128\n",
    "        self.scale = 30\n",
    "        self.margin = 0.5\n",
    "        self.fc_dim = 768\n",
    "        self.in_features = 768\n",
    "        \n",
    "        self.inference = True\n",
    "        self.psuedo_ratio = 0.4\n",
    "        self.first_run = False\n",
    "        self.length_test_df = 5000\n",
    "        \n",
    "gcc = GlobalConstantsConfigure()"
   ]
  },
  {
   "cell_type": "code",
   "execution_count": 5,
   "id": "540e95b5",
   "metadata": {
    "execution": {
     "iopub.execute_input": "2022-10-12T10:23:53.566361Z",
     "iopub.status.busy": "2022-10-12T10:23:53.566057Z",
     "iopub.status.idle": "2022-10-12T10:23:53.574760Z",
     "shell.execute_reply": "2022-10-12T10:23:53.573754Z"
    },
    "papermill": {
     "duration": 0.018168,
     "end_time": "2022-10-12T10:23:53.577071",
     "exception": false,
     "start_time": "2022-10-12T10:23:53.558903",
     "status": "completed"
    },
    "tags": []
   },
   "outputs": [],
   "source": [
    "class CosineAnnealingLRDecay(_LRScheduler):\n",
    "\n",
    "    def __init__(self, optimizer, T_max, decay_coef=0.8, eta_min=1e-9, last_epoch=-1, verbose=False):\n",
    "        if T_max <= 0 or not isinstance(T_max, int):\n",
    "            raise ValueError(\"Expected positive integer T_0, but got {}\".format(T_0))\n",
    "        if eta_min < 0 :\n",
    "            raise ValueError(\"Expected positive eta_min\")\n",
    "        self.T_max = T_max\n",
    "        self.eta_min = eta_min\n",
    "        self.T_cur = last_epoch\n",
    "        self.decay_coef = decay_coef\n",
    "        super().__init__(optimizer, last_epoch, verbose)\n",
    "\n",
    "    def get_lr(self):\n",
    "        if not self._get_lr_called_within_step:\n",
    "            warnings.warn(\"To get the last learning rate computed by the scheduler, \"\n",
    "                          \"please use `get_last_lr()`.\", UserWarning)\n",
    "        if self.last_epoch == 0:\n",
    "              return [group['lr'] for group in self.optimizer.param_groups]\n",
    "            \n",
    "        T_cur = self.last_epoch# T_cur start from 1 \n",
    "        lr_decay_coef = math.pow(self.decay_coef, T_cur / self.T_max)\n",
    "        # print(T_cur, lr_decay_coef)\n",
    "        return [self.eta_min + (base_lr - self.eta_min) * 1 / 2 * (1 + math.cos(math.pi * (T_cur % self.T_max) / self.T_max)) * lr_decay_coef\n",
    "                for base_lr in self.base_lrs]"
   ]
  },
  {
   "cell_type": "code",
   "execution_count": 6,
   "id": "221adb8b",
   "metadata": {
    "execution": {
     "iopub.execute_input": "2022-10-12T10:23:53.590882Z",
     "iopub.status.busy": "2022-10-12T10:23:53.590292Z",
     "iopub.status.idle": "2022-10-12T10:23:53.599333Z",
     "shell.execute_reply": "2022-10-12T10:23:53.598541Z"
    },
    "papermill": {
     "duration": 0.017928,
     "end_time": "2022-10-12T10:23:53.601206",
     "exception": false,
     "start_time": "2022-10-12T10:23:53.583278",
     "status": "completed"
    },
    "tags": []
   },
   "outputs": [],
   "source": [
    "class SentenceDataset(Dataset):\n",
    "    def __init__(self, df, text_column, label_column):\n",
    "        texts = df[text_column]\n",
    "        self.labels = df[label_column].values.astype('float')\n",
    "        \n",
    "        self.titles = []\n",
    "        for title in texts:\n",
    "            title = title.encode('utf-8').decode(\"unicode_escape\")\n",
    "            title = title.encode('ascii', 'ignore').decode(\"unicode_escape\")\n",
    "            title = title.lower()\n",
    "            self.titles.append(title)\n",
    "\n",
    "    def __len__(self):\n",
    "        return len(self.titles)\n",
    "\n",
    "    def __getitem__(self, idx):\n",
    "        text = self.titles[idx]\n",
    "        label = torch.tensor(self.labels[idx])\n",
    "        return text, label\n",
    "    \n",
    "    \n",
    "class SentenceInferenceDataset(Dataset):\n",
    "    def __init__(self, df, text_column):\n",
    "        texts = df[text_column]\n",
    "        \n",
    "        self.titles = []\n",
    "        for title in texts:\n",
    "            title = title.encode('utf-8').decode(\"unicode_escape\")\n",
    "            title = title.encode('ascii', 'ignore').decode(\"unicode_escape\")\n",
    "            title = title.lower()\n",
    "            self.titles.append(title)\n",
    "\n",
    "    def __len__(self):\n",
    "        return len(self.titles)\n",
    "\n",
    "    def __getitem__(self, idx):\n",
    "        text = self.titles[idx]\n",
    "        return text"
   ]
  },
  {
   "cell_type": "code",
   "execution_count": 7,
   "id": "6b97fb12",
   "metadata": {
    "execution": {
     "iopub.execute_input": "2022-10-12T10:23:53.615729Z",
     "iopub.status.busy": "2022-10-12T10:23:53.614952Z",
     "iopub.status.idle": "2022-10-12T10:23:54.824377Z",
     "shell.execute_reply": "2022-10-12T10:23:54.823462Z"
    },
    "papermill": {
     "duration": 1.219539,
     "end_time": "2022-10-12T10:23:54.826749",
     "exception": false,
     "start_time": "2022-10-12T10:23:53.607210",
     "status": "completed"
    },
    "tags": []
   },
   "outputs": [],
   "source": [
    "training_df = pd.read_csv('../input/imdb-dataset-sentiment-analysis-in-csv-format/Train.csv').sample(300)\n",
    "validation_df = pd.read_csv('../input/imdb-dataset-sentiment-analysis-in-csv-format/Valid.csv')"
   ]
  },
  {
   "cell_type": "code",
   "execution_count": 8,
   "id": "7ceaa4f7",
   "metadata": {
    "execution": {
     "iopub.execute_input": "2022-10-12T10:23:54.840789Z",
     "iopub.status.busy": "2022-10-12T10:23:54.840193Z",
     "iopub.status.idle": "2022-10-12T10:23:54.858418Z",
     "shell.execute_reply": "2022-10-12T10:23:54.857560Z"
    },
    "papermill": {
     "duration": 0.027328,
     "end_time": "2022-10-12T10:23:54.860418",
     "exception": false,
     "start_time": "2022-10-12T10:23:54.833090",
     "status": "completed"
    },
    "tags": []
   },
   "outputs": [
    {
     "data": {
      "text/html": [
       "<div>\n",
       "<style scoped>\n",
       "    .dataframe tbody tr th:only-of-type {\n",
       "        vertical-align: middle;\n",
       "    }\n",
       "\n",
       "    .dataframe tbody tr th {\n",
       "        vertical-align: top;\n",
       "    }\n",
       "\n",
       "    .dataframe thead th {\n",
       "        text-align: right;\n",
       "    }\n",
       "</style>\n",
       "<table border=\"1\" class=\"dataframe\">\n",
       "  <thead>\n",
       "    <tr style=\"text-align: right;\">\n",
       "      <th></th>\n",
       "      <th>text</th>\n",
       "      <th>label</th>\n",
       "    </tr>\n",
       "  </thead>\n",
       "  <tbody>\n",
       "    <tr>\n",
       "      <th>18569</th>\n",
       "      <td>I don't know whether to recommend this movie t...</td>\n",
       "      <td>1</td>\n",
       "    </tr>\n",
       "    <tr>\n",
       "      <th>9835</th>\n",
       "      <td>Loved Part One, The Impossible Planet, but who...</td>\n",
       "      <td>0</td>\n",
       "    </tr>\n",
       "    <tr>\n",
       "      <th>15111</th>\n",
       "      <td>Saw this as previous viewer by accident, I hav...</td>\n",
       "      <td>1</td>\n",
       "    </tr>\n",
       "    <tr>\n",
       "      <th>15051</th>\n",
       "      <td>i love watching the Jericho mile. i mean watch...</td>\n",
       "      <td>1</td>\n",
       "    </tr>\n",
       "    <tr>\n",
       "      <th>10618</th>\n",
       "      <td>I searched for this movie for years, apparentl...</td>\n",
       "      <td>1</td>\n",
       "    </tr>\n",
       "    <tr>\n",
       "      <th>...</th>\n",
       "      <td>...</td>\n",
       "      <td>...</td>\n",
       "    </tr>\n",
       "    <tr>\n",
       "      <th>12403</th>\n",
       "      <td>Of course, seeing a few boom mikes doesn't mea...</td>\n",
       "      <td>1</td>\n",
       "    </tr>\n",
       "    <tr>\n",
       "      <th>27163</th>\n",
       "      <td>I love bad movies. Not only, because they ofte...</td>\n",
       "      <td>1</td>\n",
       "    </tr>\n",
       "    <tr>\n",
       "      <th>21087</th>\n",
       "      <td>may contain spoilers!!!! so i watched this mov...</td>\n",
       "      <td>0</td>\n",
       "    </tr>\n",
       "    <tr>\n",
       "      <th>6853</th>\n",
       "      <td>Stories about the possibility of a post-apocal...</td>\n",
       "      <td>1</td>\n",
       "    </tr>\n",
       "    <tr>\n",
       "      <th>16166</th>\n",
       "      <td>A childless couple (Brooke Adams, Jeff Hayenga...</td>\n",
       "      <td>0</td>\n",
       "    </tr>\n",
       "  </tbody>\n",
       "</table>\n",
       "<p>300 rows × 2 columns</p>\n",
       "</div>"
      ],
      "text/plain": [
       "                                                    text  label\n",
       "18569  I don't know whether to recommend this movie t...      1\n",
       "9835   Loved Part One, The Impossible Planet, but who...      0\n",
       "15111  Saw this as previous viewer by accident, I hav...      1\n",
       "15051  i love watching the Jericho mile. i mean watch...      1\n",
       "10618  I searched for this movie for years, apparentl...      1\n",
       "...                                                  ...    ...\n",
       "12403  Of course, seeing a few boom mikes doesn't mea...      1\n",
       "27163  I love bad movies. Not only, because they ofte...      1\n",
       "21087  may contain spoilers!!!! so i watched this mov...      0\n",
       "6853   Stories about the possibility of a post-apocal...      1\n",
       "16166  A childless couple (Brooke Adams, Jeff Hayenga...      0\n",
       "\n",
       "[300 rows x 2 columns]"
      ]
     },
     "execution_count": 8,
     "metadata": {},
     "output_type": "execute_result"
    }
   ],
   "source": [
    "training_df"
   ]
  },
  {
   "cell_type": "code",
   "execution_count": 9,
   "id": "77b8b667",
   "metadata": {
    "execution": {
     "iopub.execute_input": "2022-10-12T10:23:54.873959Z",
     "iopub.status.busy": "2022-10-12T10:23:54.873699Z",
     "iopub.status.idle": "2022-10-12T10:23:54.893042Z",
     "shell.execute_reply": "2022-10-12T10:23:54.892027Z"
    },
    "papermill": {
     "duration": 0.028511,
     "end_time": "2022-10-12T10:23:54.895222",
     "exception": false,
     "start_time": "2022-10-12T10:23:54.866711",
     "status": "completed"
    },
    "tags": []
   },
   "outputs": [
    {
     "data": {
      "text/html": [
       "<div>\n",
       "<style scoped>\n",
       "    .dataframe tbody tr th:only-of-type {\n",
       "        vertical-align: middle;\n",
       "    }\n",
       "\n",
       "    .dataframe tbody tr th {\n",
       "        vertical-align: top;\n",
       "    }\n",
       "\n",
       "    .dataframe thead th {\n",
       "        text-align: right;\n",
       "    }\n",
       "</style>\n",
       "<table border=\"1\" class=\"dataframe\">\n",
       "  <thead>\n",
       "    <tr style=\"text-align: right;\">\n",
       "      <th></th>\n",
       "      <th>label</th>\n",
       "    </tr>\n",
       "  </thead>\n",
       "  <tbody>\n",
       "    <tr>\n",
       "      <th>count</th>\n",
       "      <td>300.000000</td>\n",
       "    </tr>\n",
       "    <tr>\n",
       "      <th>mean</th>\n",
       "      <td>0.496667</td>\n",
       "    </tr>\n",
       "    <tr>\n",
       "      <th>std</th>\n",
       "      <td>0.500824</td>\n",
       "    </tr>\n",
       "    <tr>\n",
       "      <th>min</th>\n",
       "      <td>0.000000</td>\n",
       "    </tr>\n",
       "    <tr>\n",
       "      <th>25%</th>\n",
       "      <td>0.000000</td>\n",
       "    </tr>\n",
       "    <tr>\n",
       "      <th>50%</th>\n",
       "      <td>0.000000</td>\n",
       "    </tr>\n",
       "    <tr>\n",
       "      <th>75%</th>\n",
       "      <td>1.000000</td>\n",
       "    </tr>\n",
       "    <tr>\n",
       "      <th>max</th>\n",
       "      <td>1.000000</td>\n",
       "    </tr>\n",
       "  </tbody>\n",
       "</table>\n",
       "</div>"
      ],
      "text/plain": [
       "            label\n",
       "count  300.000000\n",
       "mean     0.496667\n",
       "std      0.500824\n",
       "min      0.000000\n",
       "25%      0.000000\n",
       "50%      0.000000\n",
       "75%      1.000000\n",
       "max      1.000000"
      ]
     },
     "execution_count": 9,
     "metadata": {},
     "output_type": "execute_result"
    }
   ],
   "source": [
    "training_df.describe()"
   ]
  },
  {
   "cell_type": "code",
   "execution_count": 10,
   "id": "24c99f1f",
   "metadata": {
    "execution": {
     "iopub.execute_input": "2022-10-12T10:23:54.908989Z",
     "iopub.status.busy": "2022-10-12T10:23:54.908731Z",
     "iopub.status.idle": "2022-10-12T10:23:54.923438Z",
     "shell.execute_reply": "2022-10-12T10:23:54.921582Z"
    },
    "papermill": {
     "duration": 0.024644,
     "end_time": "2022-10-12T10:23:54.926219",
     "exception": false,
     "start_time": "2022-10-12T10:23:54.901575",
     "status": "completed"
    },
    "tags": []
   },
   "outputs": [
    {
     "name": "stdout",
     "output_type": "stream",
     "text": [
      "<class 'pandas.core.frame.DataFrame'>\n",
      "Int64Index: 300 entries, 18569 to 16166\n",
      "Data columns (total 2 columns):\n",
      " #   Column  Non-Null Count  Dtype \n",
      "---  ------  --------------  ----- \n",
      " 0   text    300 non-null    object\n",
      " 1   label   300 non-null    int64 \n",
      "dtypes: int64(1), object(1)\n",
      "memory usage: 7.0+ KB\n"
     ]
    }
   ],
   "source": [
    "training_df.info()"
   ]
  },
  {
   "cell_type": "code",
   "execution_count": 11,
   "id": "e140d9ce",
   "metadata": {
    "execution": {
     "iopub.execute_input": "2022-10-12T10:23:54.940815Z",
     "iopub.status.busy": "2022-10-12T10:23:54.940529Z",
     "iopub.status.idle": "2022-10-12T10:23:55.081791Z",
     "shell.execute_reply": "2022-10-12T10:23:55.080734Z"
    },
    "papermill": {
     "duration": 0.150555,
     "end_time": "2022-10-12T10:23:55.083860",
     "exception": false,
     "start_time": "2022-10-12T10:23:54.933305",
     "status": "completed"
    },
    "tags": []
   },
   "outputs": [
    {
     "name": "stdout",
     "output_type": "stream",
     "text": [
      "Number of available samples:  2000\n"
     ]
    }
   ],
   "source": [
    "if not gcc.first_run:\n",
    "    pl_df = pd.read_csv(gcc.pl_dir)\n",
    "    print('Number of available samples: ', len(pl_df[pl_df['is_available'] == 1]))\n",
    "    pl_df_avail = pl_df[pl_df['is_available'] == 1].copy().reset_index(drop=True)\n",
    "    pl_df_unavail = pl_df[pl_df['is_available'] == 0].copy().reset_index(drop=True)\n",
    "    \n",
    "    # print(len(pl_df_avail))\n",
    "    # print(len(pl_df_unavail))\n",
    "\n",
    "    pl_training_df = pl_df_avail[['text', 'preds']].copy()\n",
    "    pl_training_df.rename(columns={'preds': 'label'}, inplace=True)\n",
    "    \n",
    "    training_df = pd.concat([training_df, pl_training_df]) "
   ]
  },
  {
   "cell_type": "code",
   "execution_count": 12,
   "id": "0d088abe",
   "metadata": {
    "execution": {
     "iopub.execute_input": "2022-10-12T10:23:55.098413Z",
     "iopub.status.busy": "2022-10-12T10:23:55.098118Z",
     "iopub.status.idle": "2022-10-12T10:23:55.190248Z",
     "shell.execute_reply": "2022-10-12T10:23:55.189212Z"
    },
    "papermill": {
     "duration": 0.102049,
     "end_time": "2022-10-12T10:23:55.192614",
     "exception": false,
     "start_time": "2022-10-12T10:23:55.090565",
     "status": "completed"
    },
    "tags": []
   },
   "outputs": [
    {
     "name": "stderr",
     "output_type": "stream",
     "text": [
      "/opt/conda/lib/python3.7/site-packages/ipykernel_launcher.py:8: DeprecationWarning: invalid escape sequence '\\h'\n",
      "  \n",
      "/opt/conda/lib/python3.7/site-packages/ipykernel_launcher.py:9: DeprecationWarning: invalid escape sequence '\\h'\n",
      "  if __name__ == \"__main__\":\n",
      "/opt/conda/lib/python3.7/site-packages/ipykernel_launcher.py:8: DeprecationWarning: invalid escape sequence '\\E'\n",
      "  \n",
      "/opt/conda/lib/python3.7/site-packages/ipykernel_launcher.py:9: DeprecationWarning: invalid escape sequence '\\E'\n",
      "  if __name__ == \"__main__\":\n",
      "/opt/conda/lib/python3.7/site-packages/ipykernel_launcher.py:8: DeprecationWarning: invalid escape sequence '\\ '\n",
      "  \n",
      "/opt/conda/lib/python3.7/site-packages/ipykernel_launcher.py:9: DeprecationWarning: invalid escape sequence '\\ '\n",
      "  if __name__ == \"__main__\":\n"
     ]
    }
   ],
   "source": [
    "train_dataset = SentenceDataset(training_df, 'text', 'label')\n",
    "training_dataloader = DataLoader(\n",
    "    train_dataset,\n",
    "    batch_size = gcc.batch_size,\n",
    "    num_workers = gcc.num_workers,\n",
    "    pin_memory = True,\n",
    "    shuffle = True,\n",
    "    drop_last = True\n",
    ")\n",
    "\n",
    "\n",
    "valid_dataset = SentenceDataset(validation_df, 'text', 'label')\n",
    "validation_dataloader = DataLoader(\n",
    "    valid_dataset,\n",
    "    batch_size = gcc.batch_size,\n",
    "    num_workers = gcc.num_workers,\n",
    "    pin_memory = True,\n",
    "    shuffle = False,\n",
    "    drop_last = False\n",
    ")"
   ]
  },
  {
   "cell_type": "code",
   "execution_count": 13,
   "id": "a783b23d",
   "metadata": {
    "execution": {
     "iopub.execute_input": "2022-10-12T10:23:55.207679Z",
     "iopub.status.busy": "2022-10-12T10:23:55.207351Z",
     "iopub.status.idle": "2022-10-12T10:23:55.214287Z",
     "shell.execute_reply": "2022-10-12T10:23:55.213421Z"
    },
    "papermill": {
     "duration": 0.016681,
     "end_time": "2022-10-12T10:23:55.216328",
     "exception": false,
     "start_time": "2022-10-12T10:23:55.199647",
     "status": "completed"
    },
    "tags": []
   },
   "outputs": [],
   "source": [
    "def mean_pooling(model_output, attention_mask):\n",
    "    token_embeddings = model_output[0]  # First element of model_output contains all token embeddings\n",
    "    input_mask_expanded = attention_mask.unsqueeze(-1).expand(token_embeddings.size()).float()\n",
    "    sum_embeddings = torch.sum(token_embeddings * input_mask_expanded, 1)\n",
    "    sum_mask = torch.clamp(input_mask_expanded.sum(1), min=1e-9)\n",
    "    return sum_embeddings / sum_mask"
   ]
  },
  {
   "cell_type": "code",
   "execution_count": 14,
   "id": "08d3c515",
   "metadata": {
    "execution": {
     "iopub.execute_input": "2022-10-12T10:23:55.231229Z",
     "iopub.status.busy": "2022-10-12T10:23:55.230494Z",
     "iopub.status.idle": "2022-10-12T10:23:55.240586Z",
     "shell.execute_reply": "2022-10-12T10:23:55.239723Z"
    },
    "papermill": {
     "duration": 0.019781,
     "end_time": "2022-10-12T10:23:55.242691",
     "exception": false,
     "start_time": "2022-10-12T10:23:55.222910",
     "status": "completed"
    },
    "tags": []
   },
   "outputs": [],
   "source": [
    "class SentimentAnalysisModel(nn.Module):\n",
    "    def __init__(self, num_classes=gcc.num_classes, model_name=gcc.model_name, fc_dim=gcc.fc_dim, in_features=gcc.in_features, max_length=gcc.max_length):\n",
    "        super().__init__()\n",
    "        self.bert_tokenizer = AutoTokenizer.from_pretrained(model_name)\n",
    "        self.bert_model = AutoModel.from_pretrained(model_name).to(gcc.device)\n",
    "        self.max_length = max_length\n",
    "        self.last_seq_fc = nn.Sequential(\n",
    "            nn.Dropout(0.2),\n",
    "            nn.Linear(in_features, fc_dim),\n",
    "            nn.BatchNorm1d(fc_dim)\n",
    "        )\n",
    "        \n",
    "        \n",
    "        self.classifier = nn.Sequential(\n",
    "            nn.Linear(fc_dim, num_classes)\n",
    "        )\n",
    "        \n",
    "    \n",
    "    def get_params(self):\n",
    "        g1 = [param for param in self.bert_model.parameters() if param.requires_grad]\n",
    "        g2 = [param for param in self.last_seq_fc.parameters() if param.requires_grad] \\\n",
    "            + [param for param in self.classifier.parameters() if param.requires_grad] \n",
    "\n",
    "        return g1, g2\n",
    "        \n",
    "    \n",
    "    def feature_extractor(self, texts):\n",
    "        encoding = self.bert_tokenizer(texts, \n",
    "                                  padding=True, \n",
    "                                  truncation=True, \n",
    "                                  max_length = self.max_length,\n",
    "                                  return_tensors='pt'\n",
    "                                 ).to(gcc.device) # why need to send to device here\n",
    "        input_ids = encoding['input_ids'] # convert word to id\n",
    "        attention_mask = encoding['attention_mask'] # attention mask\n",
    "        embedding = self.bert_model(input_ids, attention_mask = attention_mask)\n",
    "        x = mean_pooling(embedding, attention_mask)\n",
    "        x = self.last_seq_fc(x)\n",
    "        return x\n",
    "    \n",
    "    def forward(self, texts):\n",
    "        features = self.feature_extractor(texts)\n",
    "        x = self.classifier(features)\n",
    "        return x\n",
    "    "
   ]
  },
  {
   "cell_type": "code",
   "execution_count": 15,
   "id": "2b1b8005",
   "metadata": {
    "execution": {
     "iopub.execute_input": "2022-10-12T10:23:55.257107Z",
     "iopub.status.busy": "2022-10-12T10:23:55.256852Z",
     "iopub.status.idle": "2022-10-12T10:23:55.263887Z",
     "shell.execute_reply": "2022-10-12T10:23:55.262884Z"
    },
    "papermill": {
     "duration": 0.016706,
     "end_time": "2022-10-12T10:23:55.266166",
     "exception": false,
     "start_time": "2022-10-12T10:23:55.249460",
     "status": "completed"
    },
    "tags": []
   },
   "outputs": [],
   "source": [
    "def training_progress(model, training_dataloader, scheduler, loss_func):\n",
    "    model.train()\n",
    "    \n",
    "    m_loss = 0.\n",
    "    m_acc = 0.\n",
    "    \n",
    "    cnt = 0 \n",
    "    \n",
    "    training_loader = tqdm(training_dataloader, desc='Iterating through the training set')\n",
    "    \n",
    "    for texts, labels in training_loader:\n",
    "        texts = list(texts)\n",
    "        labels = labels.type(torch.LongTensor).to(gcc.device)\n",
    "        preds = model(texts)\n",
    "        loss = loss_func(preds, labels) \n",
    "        acc = metrics_acc(preds, labels)\n",
    "        \n",
    "        m_loss += loss.detach().item()\n",
    "        m_acc += acc.detach().item()\n",
    "\n",
    "        cnt += 1 \n",
    "        \n",
    "        optimizer.zero_grad()\n",
    "        loss.backward()\n",
    "        optimizer.step()\n",
    "        \n",
    "    scheduler.step()\n",
    "    \n",
    "    \n",
    "    mean_training_loss = m_loss / cnt # running_loss / len(training_dataloader.dataset)\n",
    "    mean_training_acc = m_acc / cnt # running_corrects.double() / (len(training_dataloader.dataset) * gcc.num_targets)\n",
    "    \n",
    "    return mean_training_loss, mean_training_acc"
   ]
  },
  {
   "cell_type": "code",
   "execution_count": 16,
   "id": "60688d97",
   "metadata": {
    "execution": {
     "iopub.execute_input": "2022-10-12T10:23:55.280931Z",
     "iopub.status.busy": "2022-10-12T10:23:55.280176Z",
     "iopub.status.idle": "2022-10-12T10:23:55.287221Z",
     "shell.execute_reply": "2022-10-12T10:23:55.286299Z"
    },
    "papermill": {
     "duration": 0.016461,
     "end_time": "2022-10-12T10:23:55.289216",
     "exception": false,
     "start_time": "2022-10-12T10:23:55.272755",
     "status": "completed"
    },
    "tags": []
   },
   "outputs": [],
   "source": [
    "def validation_progress(model, validation_dataloader, scheduler, loss_func):\n",
    "    model.eval()\n",
    "    cnt = 0 \n",
    "    m_loss = 0.\n",
    "    m_acc = 0.\n",
    "    \n",
    "    validation_loader = tqdm(validation_dataloader, desc='Iterating through the validation set')\n",
    "    \n",
    "    with torch.no_grad():\n",
    "        for texts, labels in validation_loader:\n",
    "            texts = list(texts)\n",
    "            labels = labels.type(torch.LongTensor).to(gcc.device)\n",
    "\n",
    "            preds = model(texts)\n",
    "            loss = loss_func(preds, labels)\n",
    "            acc = metrics_acc(preds, labels)\n",
    "\n",
    "            m_loss += loss.detach().item()\n",
    "            m_acc += acc.detach().item()\n",
    "\n",
    "            cnt += 1 \n",
    "        \n",
    "    mean_validation_loss = m_loss / cnt \n",
    "    mean_validation_acc = m_acc / cnt \n",
    "\n",
    "    return mean_validation_loss, mean_validation_acc"
   ]
  },
  {
   "cell_type": "code",
   "execution_count": 17,
   "id": "144723ce",
   "metadata": {
    "execution": {
     "iopub.execute_input": "2022-10-12T10:23:55.303527Z",
     "iopub.status.busy": "2022-10-12T10:23:55.303272Z",
     "iopub.status.idle": "2022-10-12T10:23:55.312238Z",
     "shell.execute_reply": "2022-10-12T10:23:55.311267Z"
    },
    "papermill": {
     "duration": 0.018526,
     "end_time": "2022-10-12T10:23:55.314281",
     "exception": false,
     "start_time": "2022-10-12T10:23:55.295755",
     "status": "completed"
    },
    "tags": []
   },
   "outputs": [],
   "source": [
    "def training_model(model, training_dataloader, validation_dataloader, scheduler, loss_func):\n",
    "    training_losses_history, validation_losses_history = [], []\n",
    "    training_acc_history, validation_acc_history = [], []\n",
    "    best_loss = gcc.biggest_loss\n",
    "    for epoch in range(gcc.num_epochs):\n",
    "        \n",
    "        print(f'Training epoch {epoch + 1}/{gcc.num_epochs}, learning rate: {scheduler.get_last_lr()[0]}')\n",
    "        \n",
    "        training_loss, training_acc = training_progress(model, training_dataloader, scheduler, loss_func)\n",
    "        training_losses_history.append(training_loss)\n",
    "        training_acc_history.append(training_acc)\n",
    "\n",
    "        validation_loss, validation_acc = validation_progress(model, validation_dataloader, scheduler, loss_func)\n",
    "        validation_losses_history.append(validation_loss)\n",
    "        validation_acc_history.append(validation_acc)\n",
    "        \n",
    "        \n",
    "\n",
    "        if validation_loss <= best_loss: # sussy baka\n",
    "            best_loss = validation_loss\n",
    "            print('Saved new best selfie model')\n",
    "\n",
    "            torch.save({ # save the selfie model and pmodel seperately\n",
    "                'model_state_dict': model.state_dict(),\n",
    "                'optimizer_state_dict': optimizer.state_dict(),\n",
    "                'scheduler_state_dict': scheduler.state_dict()\n",
    "            }, gcc.model_name + '_bert_best.pt')\n",
    "            \n",
    "        if epoch == gcc.num_epochs - 1: # i believe my timing capability\n",
    "            print('Saved last bert model')\n",
    "            torch.save({\n",
    "                'model_state_dict': model.state_dict(),\n",
    "                'optimizer_state_dict': optimizer.state_dict(),\n",
    "                'scheduler_state_dict': scheduler.state_dict()\n",
    "            }, gcc.model_name + '_' + str(gcc.num_epochs_done + gcc.num_epochs) + '_bert_last.pt')\n",
    "        \n",
    "\n",
    "        print(f'Results: Epoch {epoch + 1}/{gcc.num_epochs} | Training_loss : {training_loss:.5f} | Training_acc : {training_acc:.3f} | Validation_loss : {validation_loss:.5f} | Validation_acc : {validation_acc:.3f}\\n')\n",
    "    return training_losses_history, training_acc_history, validation_losses_history, validation_acc_history"
   ]
  },
  {
   "cell_type": "code",
   "execution_count": 18,
   "id": "14795481",
   "metadata": {
    "execution": {
     "iopub.execute_input": "2022-10-12T10:23:55.328357Z",
     "iopub.status.busy": "2022-10-12T10:23:55.328104Z",
     "iopub.status.idle": "2022-10-12T10:24:33.993831Z",
     "shell.execute_reply": "2022-10-12T10:24:33.992734Z"
    },
    "papermill": {
     "duration": 38.675984,
     "end_time": "2022-10-12T10:24:33.996701",
     "exception": false,
     "start_time": "2022-10-12T10:23:55.320717",
     "status": "completed"
    },
    "tags": []
   },
   "outputs": [
    {
     "data": {
      "application/vnd.jupyter.widget-view+json": {
       "model_id": "c2063eae04a64f4b84d91343314efb3c",
       "version_major": 2,
       "version_minor": 0
      },
      "text/plain": [
       "Downloading:   0%|          | 0.00/615 [00:00<?, ?B/s]"
      ]
     },
     "metadata": {},
     "output_type": "display_data"
    },
    {
     "data": {
      "application/vnd.jupyter.widget-view+json": {
       "model_id": "664cd684854141b9a6849df16a69ddef",
       "version_major": 2,
       "version_minor": 0
      },
      "text/plain": [
       "Downloading:   0%|          | 0.00/4.83M [00:00<?, ?B/s]"
      ]
     },
     "metadata": {},
     "output_type": "display_data"
    },
    {
     "data": {
      "application/vnd.jupyter.widget-view+json": {
       "model_id": "e4c5ce2b56974041916de9505eb4467d",
       "version_major": 2,
       "version_minor": 0
      },
      "text/plain": [
       "Downloading:   0%|          | 0.00/8.68M [00:00<?, ?B/s]"
      ]
     },
     "metadata": {},
     "output_type": "display_data"
    },
    {
     "data": {
      "application/vnd.jupyter.widget-view+json": {
       "model_id": "3b1533e9b92a460e9b3de62d2bbc7ec2",
       "version_major": 2,
       "version_minor": 0
      },
      "text/plain": [
       "Downloading:   0%|          | 0.00/1.04G [00:00<?, ?B/s]"
      ]
     },
     "metadata": {},
     "output_type": "display_data"
    },
    {
     "name": "stderr",
     "output_type": "stream",
     "text": [
      "Some weights of the model checkpoint at xlm-roberta-base were not used when initializing XLMRobertaModel: ['lm_head.layer_norm.bias', 'lm_head.dense.weight', 'lm_head.bias', 'lm_head.layer_norm.weight', 'lm_head.decoder.weight', 'lm_head.dense.bias']\n",
      "- This IS expected if you are initializing XLMRobertaModel from the checkpoint of a model trained on another task or with another architecture (e.g. initializing a BertForSequenceClassification model from a BertForPreTraining model).\n",
      "- This IS NOT expected if you are initializing XLMRobertaModel from the checkpoint of a model that you expect to be exactly identical (initializing a BertForSequenceClassification model from a BertForSequenceClassification model).\n"
     ]
    }
   ],
   "source": [
    "metrics_acc = torchmetrics.Accuracy(threshold=0.0, num_classes = gcc.num_classes).to(gcc.device)\n",
    "loss_func = torch.nn.CrossEntropyLoss()\n",
    "model = SentimentAnalysisModel()\n",
    "model.to(gcc.device)\n",
    "\n",
    "\n",
    "g1, g2 = model.get_params()\n",
    "optimizer = AdamW([\n",
    "                {'params': g1, 'lr': gcc.lr, 'weight_decay' : 0.},\n",
    "                {'params': g2, 'lr': gcc.lr * 2, 'weight_decay' : 0.}\n",
    "            ])\n",
    "scheduler = CosineAnnealingLRDecay(optimizer, decay_coef=0.9,  T_max=20)"
   ]
  },
  {
   "cell_type": "code",
   "execution_count": 19,
   "id": "0336d958",
   "metadata": {
    "execution": {
     "iopub.execute_input": "2022-10-12T10:24:34.013952Z",
     "iopub.status.busy": "2022-10-12T10:24:34.013599Z",
     "iopub.status.idle": "2022-10-12T10:25:54.485493Z",
     "shell.execute_reply": "2022-10-12T10:25:54.484284Z"
    },
    "papermill": {
     "duration": 80.483518,
     "end_time": "2022-10-12T10:25:54.488021",
     "exception": false,
     "start_time": "2022-10-12T10:24:34.004503",
     "status": "completed"
    },
    "tags": []
   },
   "outputs": [
    {
     "name": "stdout",
     "output_type": "stream",
     "text": [
      "Training epoch 1/1, learning rate: 1e-06\n"
     ]
    },
    {
     "name": "stderr",
     "output_type": "stream",
     "text": [
      "Iterating through the training set: 100%|██████████| 35/35 [00:29<00:00,  1.21it/s]\n",
      "Iterating through the validation set: 100%|██████████| 79/79 [00:23<00:00,  3.37it/s]\n"
     ]
    },
    {
     "name": "stdout",
     "output_type": "stream",
     "text": [
      "Saved new best selfie model\n",
      "Saved last bert model\n",
      "Results: Epoch 1/1 | Training_loss : 0.73070 | Training_acc : 0.582 | Validation_loss : 0.69764 | Validation_acc : 0.493\n",
      "\n"
     ]
    }
   ],
   "source": [
    "training_losses_history, training_acc_history, validation_losses_history, validation_acc_history = training_model(model, training_dataloader, validation_dataloader, scheduler, loss_func)"
   ]
  },
  {
   "cell_type": "code",
   "execution_count": 20,
   "id": "3f2eddae",
   "metadata": {
    "execution": {
     "iopub.execute_input": "2022-10-12T10:25:54.958617Z",
     "iopub.status.busy": "2022-10-12T10:25:54.958085Z",
     "iopub.status.idle": "2022-10-12T10:25:54.975441Z",
     "shell.execute_reply": "2022-10-12T10:25:54.974357Z"
    },
    "papermill": {
     "duration": 0.081239,
     "end_time": "2022-10-12T10:25:54.980745",
     "exception": false,
     "start_time": "2022-10-12T10:25:54.899506",
     "status": "completed"
    },
    "tags": []
   },
   "outputs": [],
   "source": [
    "def inference(model, testing_dataloader):\n",
    "    model.eval()\n",
    "        \n",
    "    labels_cmp = np.array([])\n",
    "    preds_cmp = np.array([])\n",
    "    probs_cmp = np.array([])\n",
    "\n",
    "    dirs_img = []\n",
    "    cnt = 0 \n",
    "\n",
    "    testing_loader = tqdm(testing_dataloader, desc=f'Iterating through the testing set')\n",
    "\n",
    "    with torch.no_grad():\n",
    "        for texts in testing_loader:\n",
    "            texts = list(texts)\n",
    "\n",
    "            preds = model(texts)\n",
    "\n",
    "            preds_cmp = np.append(preds_cmp, preds.argmax(1).cpu().numpy())\n",
    "            probs = torch.max(preds.cpu(), dim=1)[0]\n",
    "            probs_cmp = np.append(probs_cmp, probs.numpy())\n",
    "            \n",
    "            labels_cmp = np.append(labels_cmp, preds.cpu().numpy())\n",
    "\n",
    "\n",
    "            cnt += 1 \n",
    "        \n",
    "    return preds_cmp, probs_cmp"
   ]
  },
  {
   "cell_type": "code",
   "execution_count": 21,
   "id": "c65c7c6c",
   "metadata": {
    "execution": {
     "iopub.execute_input": "2022-10-12T10:25:55.210793Z",
     "iopub.status.busy": "2022-10-12T10:25:55.210199Z",
     "iopub.status.idle": "2022-10-12T10:26:28.757031Z",
     "shell.execute_reply": "2022-10-12T10:26:28.755564Z"
    },
    "papermill": {
     "duration": 33.600197,
     "end_time": "2022-10-12T10:26:28.759525",
     "exception": false,
     "start_time": "2022-10-12T10:25:55.159328",
     "status": "completed"
    },
    "tags": []
   },
   "outputs": [
    {
     "name": "stdout",
     "output_type": "stream",
     "text": [
      "                                                   text  label  is_available  \\\n",
      "0     After a slow beginning, BRUCE ALMIGHTY is a ve...      1             0   \n",
      "1     I'm not a sports fan - but I love sports flics...      1             0   \n",
      "2     The John Goodman program was pretty awful, but...      0             0   \n",
      "3     Oddly, I have very little to say about \"The Bo...      0             0   \n",
      "4     As a late-going patron of the drive-in thearer...      1             0   \n",
      "...                                                 ...    ...           ...   \n",
      "2995  Why would anyone make a film like this? Why wo...      0             0   \n",
      "2996  This movie is by far one of the worst B-movies...      0             0   \n",
      "2997  <br /><br />Upon concluding my viewing of \"Tra...      0             0   \n",
      "2998  The Mod Squad isn't a movie, it's a void. That...      0             0   \n",
      "2999  As a lesbian, I am always on the lookout for f...      0             0   \n",
      "\n",
      "      preds     probs  \n",
      "0       1.0 -0.112531  \n",
      "1       1.0 -0.112534  \n",
      "2       1.0 -0.112537  \n",
      "3       1.0 -0.112542  \n",
      "4       1.0 -0.112546  \n",
      "...     ...       ...  \n",
      "2995    1.0 -0.152349  \n",
      "2996    1.0 -0.153232  \n",
      "2997    1.0 -0.153736  \n",
      "2998    1.0 -0.157094  \n",
      "2999    1.0 -0.159828  \n",
      "\n",
      "[3000 rows x 5 columns]\n"
     ]
    },
    {
     "name": "stderr",
     "output_type": "stream",
     "text": [
      "Iterating through the testing set: 100%|██████████| 47/47 [00:13<00:00,  3.40it/s]\n"
     ]
    }
   ],
   "source": [
    "if gcc.inference:\n",
    "    \n",
    "    \n",
    "    if gcc.first_run: \n",
    "        testing_df = pd.read_csv(gcc.original_testing_dir)\n",
    "        testing_df['is_available'] = 0\n",
    "    else: \n",
    "        testing_df = pl_df_unavail\n",
    "        print(testing_df)\n",
    "         # point to the old data\n",
    "        \n",
    "    \n",
    "    test_dataset = SentenceInferenceDataset(testing_df, 'text')\n",
    "    testing_dataloader = DataLoader(\n",
    "        test_dataset,\n",
    "        batch_size = gcc.batch_size,\n",
    "        num_workers = gcc.num_workers,\n",
    "        pin_memory = True,\n",
    "        shuffle = False,\n",
    "        drop_last = False\n",
    "    )\n",
    "    \n",
    "    checkpoint = torch.load(gcc.model_name + '_bert_best.pt')\n",
    "    model.load_state_dict(checkpoint['model_state_dict'])\n",
    "    preds_cmp, probs_cmp = inference(model, testing_dataloader)\n",
    "    testing_df['preds'] = preds_cmp    \n",
    "    testing_df['probs'] = probs_cmp    \n",
    "     \n"
   ]
  },
  {
   "cell_type": "code",
   "execution_count": 22,
   "id": "a0aa0247",
   "metadata": {
    "execution": {
     "iopub.execute_input": "2022-10-12T10:26:28.792874Z",
     "iopub.status.busy": "2022-10-12T10:26:28.792199Z",
     "iopub.status.idle": "2022-10-12T10:26:28.803588Z",
     "shell.execute_reply": "2022-10-12T10:26:28.802753Z"
    },
    "papermill": {
     "duration": 0.030138,
     "end_time": "2022-10-12T10:26:28.805490",
     "exception": false,
     "start_time": "2022-10-12T10:26:28.775352",
     "status": "completed"
    },
    "tags": []
   },
   "outputs": [],
   "source": [
    "testing_df.sort_values(by=['probs'], ascending=False, inplace=True)\n",
    "testing_df = testing_df.reset_index(drop=True)"
   ]
  },
  {
   "cell_type": "code",
   "execution_count": 23,
   "id": "ea9866f8",
   "metadata": {
    "execution": {
     "iopub.execute_input": "2022-10-12T10:26:28.837725Z",
     "iopub.status.busy": "2022-10-12T10:26:28.837431Z",
     "iopub.status.idle": "2022-10-12T10:26:28.858916Z",
     "shell.execute_reply": "2022-10-12T10:26:28.857502Z"
    },
    "papermill": {
     "duration": 0.039598,
     "end_time": "2022-10-12T10:26:28.860775",
     "exception": false,
     "start_time": "2022-10-12T10:26:28.821177",
     "status": "completed"
    },
    "tags": []
   },
   "outputs": [
    {
     "name": "stderr",
     "output_type": "stream",
     "text": [
      "/opt/conda/lib/python3.7/site-packages/ipykernel_launcher.py:1: SettingWithCopyWarning: \n",
      "A value is trying to be set on a copy of a slice from a DataFrame\n",
      "\n",
      "See the caveats in the documentation: https://pandas.pydata.org/pandas-docs/stable/user_guide/indexing.html#returning-a-view-versus-a-copy\n",
      "  \"\"\"Entry point for launching an IPython kernel.\n"
     ]
    },
    {
     "data": {
      "text/html": [
       "<div>\n",
       "<style scoped>\n",
       "    .dataframe tbody tr th:only-of-type {\n",
       "        vertical-align: middle;\n",
       "    }\n",
       "\n",
       "    .dataframe tbody tr th {\n",
       "        vertical-align: top;\n",
       "    }\n",
       "\n",
       "    .dataframe thead th {\n",
       "        text-align: right;\n",
       "    }\n",
       "</style>\n",
       "<table border=\"1\" class=\"dataframe\">\n",
       "  <thead>\n",
       "    <tr style=\"text-align: right;\">\n",
       "      <th></th>\n",
       "      <th>text</th>\n",
       "      <th>label</th>\n",
       "      <th>is_available</th>\n",
       "      <th>preds</th>\n",
       "      <th>probs</th>\n",
       "    </tr>\n",
       "  </thead>\n",
       "  <tbody>\n",
       "    <tr>\n",
       "      <th>0</th>\n",
       "      <td>&lt;br /&gt;&lt;br /&gt;It sucked.&lt;br /&gt;&lt;br /&gt;I returned t...</td>\n",
       "      <td>0</td>\n",
       "      <td>1</td>\n",
       "      <td>0.0</td>\n",
       "      <td>0.395209</td>\n",
       "    </tr>\n",
       "    <tr>\n",
       "      <th>1</th>\n",
       "      <td>I read ashew's comment and thought they must h...</td>\n",
       "      <td>1</td>\n",
       "      <td>1</td>\n",
       "      <td>0.0</td>\n",
       "      <td>0.378520</td>\n",
       "    </tr>\n",
       "    <tr>\n",
       "      <th>2</th>\n",
       "      <td>I didn't see such a movie where the creators p...</td>\n",
       "      <td>1</td>\n",
       "      <td>1</td>\n",
       "      <td>0.0</td>\n",
       "      <td>0.369896</td>\n",
       "    </tr>\n",
       "    <tr>\n",
       "      <th>3</th>\n",
       "      <td>This is possibly the single worst film i have ...</td>\n",
       "      <td>0</td>\n",
       "      <td>1</td>\n",
       "      <td>0.0</td>\n",
       "      <td>0.366993</td>\n",
       "    </tr>\n",
       "    <tr>\n",
       "      <th>4</th>\n",
       "      <td>This film is terrible. I was really looking fo...</td>\n",
       "      <td>0</td>\n",
       "      <td>1</td>\n",
       "      <td>0.0</td>\n",
       "      <td>0.356997</td>\n",
       "    </tr>\n",
       "    <tr>\n",
       "      <th>...</th>\n",
       "      <td>...</td>\n",
       "      <td>...</td>\n",
       "      <td>...</td>\n",
       "      <td>...</td>\n",
       "      <td>...</td>\n",
       "    </tr>\n",
       "    <tr>\n",
       "      <th>2995</th>\n",
       "      <td>This movie was dreadful. Biblically very inacc...</td>\n",
       "      <td>0</td>\n",
       "      <td>0</td>\n",
       "      <td>0.0</td>\n",
       "      <td>0.138555</td>\n",
       "    </tr>\n",
       "    <tr>\n",
       "      <th>2996</th>\n",
       "      <td>In the rapid economic development of 1990's in...</td>\n",
       "      <td>1</td>\n",
       "      <td>0</td>\n",
       "      <td>0.0</td>\n",
       "      <td>0.132932</td>\n",
       "    </tr>\n",
       "    <tr>\n",
       "      <th>2997</th>\n",
       "      <td>MacArthur is a great movie with a great story ...</td>\n",
       "      <td>1</td>\n",
       "      <td>0</td>\n",
       "      <td>0.0</td>\n",
       "      <td>0.132007</td>\n",
       "    </tr>\n",
       "    <tr>\n",
       "      <th>2998</th>\n",
       "      <td>If you want an excellent survey of Byzantine h...</td>\n",
       "      <td>1</td>\n",
       "      <td>0</td>\n",
       "      <td>0.0</td>\n",
       "      <td>0.118138</td>\n",
       "    </tr>\n",
       "    <tr>\n",
       "      <th>2999</th>\n",
       "      <td>This movie has problems in its presentation, m...</td>\n",
       "      <td>1</td>\n",
       "      <td>0</td>\n",
       "      <td>0.0</td>\n",
       "      <td>0.095293</td>\n",
       "    </tr>\n",
       "  </tbody>\n",
       "</table>\n",
       "<p>3000 rows × 5 columns</p>\n",
       "</div>"
      ],
      "text/plain": [
       "                                                   text  label  is_available  \\\n",
       "0     <br /><br />It sucked.<br /><br />I returned t...      0             1   \n",
       "1     I read ashew's comment and thought they must h...      1             1   \n",
       "2     I didn't see such a movie where the creators p...      1             1   \n",
       "3     This is possibly the single worst film i have ...      0             1   \n",
       "4     This film is terrible. I was really looking fo...      0             1   \n",
       "...                                                 ...    ...           ...   \n",
       "2995  This movie was dreadful. Biblically very inacc...      0             0   \n",
       "2996  In the rapid economic development of 1990's in...      1             0   \n",
       "2997  MacArthur is a great movie with a great story ...      1             0   \n",
       "2998  If you want an excellent survey of Byzantine h...      1             0   \n",
       "2999  This movie has problems in its presentation, m...      1             0   \n",
       "\n",
       "      preds     probs  \n",
       "0       0.0  0.395209  \n",
       "1       0.0  0.378520  \n",
       "2       0.0  0.369896  \n",
       "3       0.0  0.366993  \n",
       "4       0.0  0.356997  \n",
       "...     ...       ...  \n",
       "2995    0.0  0.138555  \n",
       "2996    0.0  0.132932  \n",
       "2997    0.0  0.132007  \n",
       "2998    0.0  0.118138  \n",
       "2999    0.0  0.095293  \n",
       "\n",
       "[3000 rows x 5 columns]"
      ]
     },
     "execution_count": 23,
     "metadata": {},
     "output_type": "execute_result"
    }
   ],
   "source": [
    "testing_df['is_available'][: int(gcc.psuedo_ratio * gcc.length_test_df)] = 1\n",
    "testing_df"
   ]
  },
  {
   "cell_type": "code",
   "execution_count": 24,
   "id": "7512cf5d",
   "metadata": {
    "execution": {
     "iopub.execute_input": "2022-10-12T10:26:28.895234Z",
     "iopub.status.busy": "2022-10-12T10:26:28.894653Z",
     "iopub.status.idle": "2022-10-12T10:26:28.903216Z",
     "shell.execute_reply": "2022-10-12T10:26:28.902190Z"
    },
    "papermill": {
     "duration": 0.028155,
     "end_time": "2022-10-12T10:26:28.905277",
     "exception": false,
     "start_time": "2022-10-12T10:26:28.877122",
     "status": "completed"
    },
    "tags": []
   },
   "outputs": [
    {
     "data": {
      "text/plain": [
       "2000"
      ]
     },
     "execution_count": 24,
     "metadata": {},
     "output_type": "execute_result"
    }
   ],
   "source": [
    "len(testing_df[testing_df['is_available'] == 1])"
   ]
  },
  {
   "cell_type": "code",
   "execution_count": 25,
   "id": "10be264c",
   "metadata": {
    "execution": {
     "iopub.execute_input": "2022-10-12T10:26:28.940093Z",
     "iopub.status.busy": "2022-10-12T10:26:28.939810Z",
     "iopub.status.idle": "2022-10-12T10:26:28.945365Z",
     "shell.execute_reply": "2022-10-12T10:26:28.944450Z"
    },
    "papermill": {
     "duration": 0.02559,
     "end_time": "2022-10-12T10:26:28.947402",
     "exception": false,
     "start_time": "2022-10-12T10:26:28.921812",
     "status": "completed"
    },
    "tags": []
   },
   "outputs": [
    {
     "data": {
      "text/plain": [
       "3000"
      ]
     },
     "execution_count": 25,
     "metadata": {},
     "output_type": "execute_result"
    }
   ],
   "source": [
    "len(testing_df)"
   ]
  },
  {
   "cell_type": "code",
   "execution_count": null,
   "id": "8fa48673",
   "metadata": {
    "papermill": {
     "duration": 0.015657,
     "end_time": "2022-10-12T10:26:28.978873",
     "exception": false,
     "start_time": "2022-10-12T10:26:28.963216",
     "status": "completed"
    },
    "tags": []
   },
   "outputs": [],
   "source": []
  },
  {
   "cell_type": "code",
   "execution_count": 26,
   "id": "9e36cd53",
   "metadata": {
    "execution": {
     "iopub.execute_input": "2022-10-12T10:26:29.013773Z",
     "iopub.status.busy": "2022-10-12T10:26:29.012202Z",
     "iopub.status.idle": "2022-10-12T10:26:29.021476Z",
     "shell.execute_reply": "2022-10-12T10:26:29.020460Z"
    },
    "papermill": {
     "duration": 0.028766,
     "end_time": "2022-10-12T10:26:29.023619",
     "exception": false,
     "start_time": "2022-10-12T10:26:28.994853",
     "status": "completed"
    },
    "tags": []
   },
   "outputs": [
    {
     "data": {
      "text/plain": [
       "2000"
      ]
     },
     "execution_count": 26,
     "metadata": {},
     "output_type": "execute_result"
    }
   ],
   "source": [
    "len(pl_df[pl_df['is_available'] == 1])"
   ]
  },
  {
   "cell_type": "code",
   "execution_count": 27,
   "id": "84ff3066",
   "metadata": {
    "execution": {
     "iopub.execute_input": "2022-10-12T10:26:29.057369Z",
     "iopub.status.busy": "2022-10-12T10:26:29.056486Z",
     "iopub.status.idle": "2022-10-12T10:26:29.063764Z",
     "shell.execute_reply": "2022-10-12T10:26:29.062837Z"
    },
    "papermill": {
     "duration": 0.026035,
     "end_time": "2022-10-12T10:26:29.065676",
     "exception": false,
     "start_time": "2022-10-12T10:26:29.039641",
     "status": "completed"
    },
    "tags": []
   },
   "outputs": [
    {
     "data": {
      "text/plain": [
       "3000"
      ]
     },
     "execution_count": 27,
     "metadata": {},
     "output_type": "execute_result"
    }
   ],
   "source": [
    "len(pl_df[pl_df['is_available'] == 0])"
   ]
  },
  {
   "cell_type": "code",
   "execution_count": 28,
   "id": "5501cbee",
   "metadata": {
    "execution": {
     "iopub.execute_input": "2022-10-12T10:26:29.099114Z",
     "iopub.status.busy": "2022-10-12T10:26:29.098548Z",
     "iopub.status.idle": "2022-10-12T10:26:29.221461Z",
     "shell.execute_reply": "2022-10-12T10:26:29.220373Z"
    },
    "papermill": {
     "duration": 0.142358,
     "end_time": "2022-10-12T10:26:29.223929",
     "exception": false,
     "start_time": "2022-10-12T10:26:29.081571",
     "status": "completed"
    },
    "tags": []
   },
   "outputs": [
    {
     "name": "stdout",
     "output_type": "stream",
     "text": [
      "Number of available samples:  4000\n",
      "New pl df size:  5000\n"
     ]
    }
   ],
   "source": [
    "if not gcc.first_run: \n",
    "    new_pl_df = pd.concat([pl_df_avail, testing_df])\n",
    "    print('Number of available samples: ', len(new_pl_df[new_pl_df['is_available'] == 1]))\n",
    "    print('New pl df size: ', len(new_pl_df))\n",
    "\n",
    "    new_pl_df.to_csv('pl_df.csv')\n",
    "else:\n",
    "    print(testing_df)\n",
    "    testing_df.to_csv('pl_df.csv', index=False)\n",
    "    testing_df"
   ]
  }
 ],
 "metadata": {
  "kernelspec": {
   "display_name": "Python 3",
   "language": "python",
   "name": "python3"
  },
  "language_info": {
   "codemirror_mode": {
    "name": "ipython",
    "version": 3
   },
   "file_extension": ".py",
   "mimetype": "text/x-python",
   "name": "python",
   "nbconvert_exporter": "python",
   "pygments_lexer": "ipython3",
   "version": "3.7.12"
  },
  "papermill": {
   "default_parameters": {},
   "duration": 167.864175,
   "end_time": "2022-10-12T10:26:31.069341",
   "environment_variables": {},
   "exception": null,
   "input_path": "__notebook__.ipynb",
   "output_path": "__notebook__.ipynb",
   "parameters": {},
   "start_time": "2022-10-12T10:23:43.205166",
   "version": "2.3.4"
  },
  "widgets": {
   "application/vnd.jupyter.widget-state+json": {
    "state": {
     "0056f76f91b446a4af09678128f7b609": {
      "model_module": "@jupyter-widgets/controls",
      "model_module_version": "1.5.0",
      "model_name": "HTMLModel",
      "state": {
       "_dom_classes": [],
       "_model_module": "@jupyter-widgets/controls",
       "_model_module_version": "1.5.0",
       "_model_name": "HTMLModel",
       "_view_count": null,
       "_view_module": "@jupyter-widgets/controls",
       "_view_module_version": "1.5.0",
       "_view_name": "HTMLView",
       "description": "",
       "description_tooltip": null,
       "layout": "IPY_MODEL_c6c5b773b228413482747e76265ef3da",
       "placeholder": "​",
       "style": "IPY_MODEL_39456f43194349a49b415d13a5bb6333",
       "value": "Downloading: 100%"
      }
     },
     "00c0e689ab5248dc9c6e01a6c1749daf": {
      "model_module": "@jupyter-widgets/controls",
      "model_module_version": "1.5.0",
      "model_name": "FloatProgressModel",
      "state": {
       "_dom_classes": [],
       "_model_module": "@jupyter-widgets/controls",
       "_model_module_version": "1.5.0",
       "_model_name": "FloatProgressModel",
       "_view_count": null,
       "_view_module": "@jupyter-widgets/controls",
       "_view_module_version": "1.5.0",
       "_view_name": "ProgressView",
       "bar_style": "success",
       "description": "",
       "description_tooltip": null,
       "layout": "IPY_MODEL_2c135d6829764e95af3014a4051b6bad",
       "max": 9096718.0,
       "min": 0.0,
       "orientation": "horizontal",
       "style": "IPY_MODEL_a3b3bce846d04b8ab7fb4af2c96a191d",
       "value": 9096718.0
      }
     },
     "083786d9f7d942e2a57e65b40c208bfe": {
      "model_module": "@jupyter-widgets/controls",
      "model_module_version": "1.5.0",
      "model_name": "DescriptionStyleModel",
      "state": {
       "_model_module": "@jupyter-widgets/controls",
       "_model_module_version": "1.5.0",
       "_model_name": "DescriptionStyleModel",
       "_view_count": null,
       "_view_module": "@jupyter-widgets/base",
       "_view_module_version": "1.2.0",
       "_view_name": "StyleView",
       "description_width": ""
      }
     },
     "2c135d6829764e95af3014a4051b6bad": {
      "model_module": "@jupyter-widgets/base",
      "model_module_version": "1.2.0",
      "model_name": "LayoutModel",
      "state": {
       "_model_module": "@jupyter-widgets/base",
       "_model_module_version": "1.2.0",
       "_model_name": "LayoutModel",
       "_view_count": null,
       "_view_module": "@jupyter-widgets/base",
       "_view_module_version": "1.2.0",
       "_view_name": "LayoutView",
       "align_content": null,
       "align_items": null,
       "align_self": null,
       "border": null,
       "bottom": null,
       "display": null,
       "flex": null,
       "flex_flow": null,
       "grid_area": null,
       "grid_auto_columns": null,
       "grid_auto_flow": null,
       "grid_auto_rows": null,
       "grid_column": null,
       "grid_gap": null,
       "grid_row": null,
       "grid_template_areas": null,
       "grid_template_columns": null,
       "grid_template_rows": null,
       "height": null,
       "justify_content": null,
       "justify_items": null,
       "left": null,
       "margin": null,
       "max_height": null,
       "max_width": null,
       "min_height": null,
       "min_width": null,
       "object_fit": null,
       "object_position": null,
       "order": null,
       "overflow": null,
       "overflow_x": null,
       "overflow_y": null,
       "padding": null,
       "right": null,
       "top": null,
       "visibility": null,
       "width": null
      }
     },
     "2c1913021046462798e47bafcde2c36e": {
      "model_module": "@jupyter-widgets/controls",
      "model_module_version": "1.5.0",
      "model_name": "DescriptionStyleModel",
      "state": {
       "_model_module": "@jupyter-widgets/controls",
       "_model_module_version": "1.5.0",
       "_model_name": "DescriptionStyleModel",
       "_view_count": null,
       "_view_module": "@jupyter-widgets/base",
       "_view_module_version": "1.2.0",
       "_view_name": "StyleView",
       "description_width": ""
      }
     },
     "339c021835924861933448a94c2f1088": {
      "model_module": "@jupyter-widgets/controls",
      "model_module_version": "1.5.0",
      "model_name": "DescriptionStyleModel",
      "state": {
       "_model_module": "@jupyter-widgets/controls",
       "_model_module_version": "1.5.0",
       "_model_name": "DescriptionStyleModel",
       "_view_count": null,
       "_view_module": "@jupyter-widgets/base",
       "_view_module_version": "1.2.0",
       "_view_name": "StyleView",
       "description_width": ""
      }
     },
     "39456f43194349a49b415d13a5bb6333": {
      "model_module": "@jupyter-widgets/controls",
      "model_module_version": "1.5.0",
      "model_name": "DescriptionStyleModel",
      "state": {
       "_model_module": "@jupyter-widgets/controls",
       "_model_module_version": "1.5.0",
       "_model_name": "DescriptionStyleModel",
       "_view_count": null,
       "_view_module": "@jupyter-widgets/base",
       "_view_module_version": "1.2.0",
       "_view_name": "StyleView",
       "description_width": ""
      }
     },
     "3b1533e9b92a460e9b3de62d2bbc7ec2": {
      "model_module": "@jupyter-widgets/controls",
      "model_module_version": "1.5.0",
      "model_name": "HBoxModel",
      "state": {
       "_dom_classes": [],
       "_model_module": "@jupyter-widgets/controls",
       "_model_module_version": "1.5.0",
       "_model_name": "HBoxModel",
       "_view_count": null,
       "_view_module": "@jupyter-widgets/controls",
       "_view_module_version": "1.5.0",
       "_view_name": "HBoxView",
       "box_style": "",
       "children": [
        "IPY_MODEL_a2b1c60b19bb489f9a659a6835a5c46e",
        "IPY_MODEL_69f94667a79e4fe0bdd400837c5ec4ee",
        "IPY_MODEL_9bab4ad6a36b4362b3a01214cb0eeb07"
       ],
       "layout": "IPY_MODEL_e7662898cdcd4588b814de8ff0707e86"
      }
     },
     "46019669483543bf9fabe7ad02bed482": {
      "model_module": "@jupyter-widgets/base",
      "model_module_version": "1.2.0",
      "model_name": "LayoutModel",
      "state": {
       "_model_module": "@jupyter-widgets/base",
       "_model_module_version": "1.2.0",
       "_model_name": "LayoutModel",
       "_view_count": null,
       "_view_module": "@jupyter-widgets/base",
       "_view_module_version": "1.2.0",
       "_view_name": "LayoutView",
       "align_content": null,
       "align_items": null,
       "align_self": null,
       "border": null,
       "bottom": null,
       "display": null,
       "flex": null,
       "flex_flow": null,
       "grid_area": null,
       "grid_auto_columns": null,
       "grid_auto_flow": null,
       "grid_auto_rows": null,
       "grid_column": null,
       "grid_gap": null,
       "grid_row": null,
       "grid_template_areas": null,
       "grid_template_columns": null,
       "grid_template_rows": null,
       "height": null,
       "justify_content": null,
       "justify_items": null,
       "left": null,
       "margin": null,
       "max_height": null,
       "max_width": null,
       "min_height": null,
       "min_width": null,
       "object_fit": null,
       "object_position": null,
       "order": null,
       "overflow": null,
       "overflow_x": null,
       "overflow_y": null,
       "padding": null,
       "right": null,
       "top": null,
       "visibility": null,
       "width": null
      }
     },
     "4db452ed186049b2bf175a24d7d924e2": {
      "model_module": "@jupyter-widgets/base",
      "model_module_version": "1.2.0",
      "model_name": "LayoutModel",
      "state": {
       "_model_module": "@jupyter-widgets/base",
       "_model_module_version": "1.2.0",
       "_model_name": "LayoutModel",
       "_view_count": null,
       "_view_module": "@jupyter-widgets/base",
       "_view_module_version": "1.2.0",
       "_view_name": "LayoutView",
       "align_content": null,
       "align_items": null,
       "align_self": null,
       "border": null,
       "bottom": null,
       "display": null,
       "flex": null,
       "flex_flow": null,
       "grid_area": null,
       "grid_auto_columns": null,
       "grid_auto_flow": null,
       "grid_auto_rows": null,
       "grid_column": null,
       "grid_gap": null,
       "grid_row": null,
       "grid_template_areas": null,
       "grid_template_columns": null,
       "grid_template_rows": null,
       "height": null,
       "justify_content": null,
       "justify_items": null,
       "left": null,
       "margin": null,
       "max_height": null,
       "max_width": null,
       "min_height": null,
       "min_width": null,
       "object_fit": null,
       "object_position": null,
       "order": null,
       "overflow": null,
       "overflow_x": null,
       "overflow_y": null,
       "padding": null,
       "right": null,
       "top": null,
       "visibility": null,
       "width": null
      }
     },
     "664cd684854141b9a6849df16a69ddef": {
      "model_module": "@jupyter-widgets/controls",
      "model_module_version": "1.5.0",
      "model_name": "HBoxModel",
      "state": {
       "_dom_classes": [],
       "_model_module": "@jupyter-widgets/controls",
       "_model_module_version": "1.5.0",
       "_model_name": "HBoxModel",
       "_view_count": null,
       "_view_module": "@jupyter-widgets/controls",
       "_view_module_version": "1.5.0",
       "_view_name": "HBoxView",
       "box_style": "",
       "children": [
        "IPY_MODEL_eff92bd9643443079f30459447d16e33",
        "IPY_MODEL_80e96751f487405f88605519438b6a64",
        "IPY_MODEL_f77eaad1f9314af09b0364b544699adb"
       ],
       "layout": "IPY_MODEL_d7d9061a38524ad7917deaee9c589736"
      }
     },
     "69f94667a79e4fe0bdd400837c5ec4ee": {
      "model_module": "@jupyter-widgets/controls",
      "model_module_version": "1.5.0",
      "model_name": "FloatProgressModel",
      "state": {
       "_dom_classes": [],
       "_model_module": "@jupyter-widgets/controls",
       "_model_module_version": "1.5.0",
       "_model_name": "FloatProgressModel",
       "_view_count": null,
       "_view_module": "@jupyter-widgets/controls",
       "_view_module_version": "1.5.0",
       "_view_name": "ProgressView",
       "bar_style": "success",
       "description": "",
       "description_tooltip": null,
       "layout": "IPY_MODEL_f2668e463ca942208598798e0b93964d",
       "max": 1115590446.0,
       "min": 0.0,
       "orientation": "horizontal",
       "style": "IPY_MODEL_e84a89fe69704a9599417d06e466523a",
       "value": 1115590446.0
      }
     },
     "6a4c1341444e4135962656db27e25da8": {
      "model_module": "@jupyter-widgets/base",
      "model_module_version": "1.2.0",
      "model_name": "LayoutModel",
      "state": {
       "_model_module": "@jupyter-widgets/base",
       "_model_module_version": "1.2.0",
       "_model_name": "LayoutModel",
       "_view_count": null,
       "_view_module": "@jupyter-widgets/base",
       "_view_module_version": "1.2.0",
       "_view_name": "LayoutView",
       "align_content": null,
       "align_items": null,
       "align_self": null,
       "border": null,
       "bottom": null,
       "display": null,
       "flex": null,
       "flex_flow": null,
       "grid_area": null,
       "grid_auto_columns": null,
       "grid_auto_flow": null,
       "grid_auto_rows": null,
       "grid_column": null,
       "grid_gap": null,
       "grid_row": null,
       "grid_template_areas": null,
       "grid_template_columns": null,
       "grid_template_rows": null,
       "height": null,
       "justify_content": null,
       "justify_items": null,
       "left": null,
       "margin": null,
       "max_height": null,
       "max_width": null,
       "min_height": null,
       "min_width": null,
       "object_fit": null,
       "object_position": null,
       "order": null,
       "overflow": null,
       "overflow_x": null,
       "overflow_y": null,
       "padding": null,
       "right": null,
       "top": null,
       "visibility": null,
       "width": null
      }
     },
     "6aae6cbb8f744849995fc0053260081e": {
      "model_module": "@jupyter-widgets/controls",
      "model_module_version": "1.5.0",
      "model_name": "ProgressStyleModel",
      "state": {
       "_model_module": "@jupyter-widgets/controls",
       "_model_module_version": "1.5.0",
       "_model_name": "ProgressStyleModel",
       "_view_count": null,
       "_view_module": "@jupyter-widgets/base",
       "_view_module_version": "1.2.0",
       "_view_name": "StyleView",
       "bar_color": null,
       "description_width": ""
      }
     },
     "6ff9b3b6bcd84a87837ef9b319b39a0d": {
      "model_module": "@jupyter-widgets/base",
      "model_module_version": "1.2.0",
      "model_name": "LayoutModel",
      "state": {
       "_model_module": "@jupyter-widgets/base",
       "_model_module_version": "1.2.0",
       "_model_name": "LayoutModel",
       "_view_count": null,
       "_view_module": "@jupyter-widgets/base",
       "_view_module_version": "1.2.0",
       "_view_name": "LayoutView",
       "align_content": null,
       "align_items": null,
       "align_self": null,
       "border": null,
       "bottom": null,
       "display": null,
       "flex": null,
       "flex_flow": null,
       "grid_area": null,
       "grid_auto_columns": null,
       "grid_auto_flow": null,
       "grid_auto_rows": null,
       "grid_column": null,
       "grid_gap": null,
       "grid_row": null,
       "grid_template_areas": null,
       "grid_template_columns": null,
       "grid_template_rows": null,
       "height": null,
       "justify_content": null,
       "justify_items": null,
       "left": null,
       "margin": null,
       "max_height": null,
       "max_width": null,
       "min_height": null,
       "min_width": null,
       "object_fit": null,
       "object_position": null,
       "order": null,
       "overflow": null,
       "overflow_x": null,
       "overflow_y": null,
       "padding": null,
       "right": null,
       "top": null,
       "visibility": null,
       "width": null
      }
     },
     "7ad93522fa834f169a4923ada6d737f5": {
      "model_module": "@jupyter-widgets/controls",
      "model_module_version": "1.5.0",
      "model_name": "HTMLModel",
      "state": {
       "_dom_classes": [],
       "_model_module": "@jupyter-widgets/controls",
       "_model_module_version": "1.5.0",
       "_model_name": "HTMLModel",
       "_view_count": null,
       "_view_module": "@jupyter-widgets/controls",
       "_view_module_version": "1.5.0",
       "_view_name": "HTMLView",
       "description": "",
       "description_tooltip": null,
       "layout": "IPY_MODEL_f70ce06fc3284c9794dcb25595e4d68b",
       "placeholder": "​",
       "style": "IPY_MODEL_083786d9f7d942e2a57e65b40c208bfe",
       "value": " 8.68M/8.68M [00:00&lt;00:00, 18.4MB/s]"
      }
     },
     "80445f5fd4d0496fbdec32b1d7cb970b": {
      "model_module": "@jupyter-widgets/controls",
      "model_module_version": "1.5.0",
      "model_name": "ProgressStyleModel",
      "state": {
       "_model_module": "@jupyter-widgets/controls",
       "_model_module_version": "1.5.0",
       "_model_name": "ProgressStyleModel",
       "_view_count": null,
       "_view_module": "@jupyter-widgets/base",
       "_view_module_version": "1.2.0",
       "_view_name": "StyleView",
       "bar_color": null,
       "description_width": ""
      }
     },
     "80e96751f487405f88605519438b6a64": {
      "model_module": "@jupyter-widgets/controls",
      "model_module_version": "1.5.0",
      "model_name": "FloatProgressModel",
      "state": {
       "_dom_classes": [],
       "_model_module": "@jupyter-widgets/controls",
       "_model_module_version": "1.5.0",
       "_model_name": "FloatProgressModel",
       "_view_count": null,
       "_view_module": "@jupyter-widgets/controls",
       "_view_module_version": "1.5.0",
       "_view_name": "ProgressView",
       "bar_style": "success",
       "description": "",
       "description_tooltip": null,
       "layout": "IPY_MODEL_4db452ed186049b2bf175a24d7d924e2",
       "max": 5069051.0,
       "min": 0.0,
       "orientation": "horizontal",
       "style": "IPY_MODEL_6aae6cbb8f744849995fc0053260081e",
       "value": 5069051.0
      }
     },
     "896683e75961445eb82f4db7dcdd1174": {
      "model_module": "@jupyter-widgets/base",
      "model_module_version": "1.2.0",
      "model_name": "LayoutModel",
      "state": {
       "_model_module": "@jupyter-widgets/base",
       "_model_module_version": "1.2.0",
       "_model_name": "LayoutModel",
       "_view_count": null,
       "_view_module": "@jupyter-widgets/base",
       "_view_module_version": "1.2.0",
       "_view_name": "LayoutView",
       "align_content": null,
       "align_items": null,
       "align_self": null,
       "border": null,
       "bottom": null,
       "display": null,
       "flex": null,
       "flex_flow": null,
       "grid_area": null,
       "grid_auto_columns": null,
       "grid_auto_flow": null,
       "grid_auto_rows": null,
       "grid_column": null,
       "grid_gap": null,
       "grid_row": null,
       "grid_template_areas": null,
       "grid_template_columns": null,
       "grid_template_rows": null,
       "height": null,
       "justify_content": null,
       "justify_items": null,
       "left": null,
       "margin": null,
       "max_height": null,
       "max_width": null,
       "min_height": null,
       "min_width": null,
       "object_fit": null,
       "object_position": null,
       "order": null,
       "overflow": null,
       "overflow_x": null,
       "overflow_y": null,
       "padding": null,
       "right": null,
       "top": null,
       "visibility": null,
       "width": null
      }
     },
     "89894757d31e4f02b7491cb4e2dd1068": {
      "model_module": "@jupyter-widgets/controls",
      "model_module_version": "1.5.0",
      "model_name": "FloatProgressModel",
      "state": {
       "_dom_classes": [],
       "_model_module": "@jupyter-widgets/controls",
       "_model_module_version": "1.5.0",
       "_model_name": "FloatProgressModel",
       "_view_count": null,
       "_view_module": "@jupyter-widgets/controls",
       "_view_module_version": "1.5.0",
       "_view_name": "ProgressView",
       "bar_style": "success",
       "description": "",
       "description_tooltip": null,
       "layout": "IPY_MODEL_6a4c1341444e4135962656db27e25da8",
       "max": 615.0,
       "min": 0.0,
       "orientation": "horizontal",
       "style": "IPY_MODEL_80445f5fd4d0496fbdec32b1d7cb970b",
       "value": 615.0
      }
     },
     "89fd95297c314180989b82cbbcdfc452": {
      "model_module": "@jupyter-widgets/base",
      "model_module_version": "1.2.0",
      "model_name": "LayoutModel",
      "state": {
       "_model_module": "@jupyter-widgets/base",
       "_model_module_version": "1.2.0",
       "_model_name": "LayoutModel",
       "_view_count": null,
       "_view_module": "@jupyter-widgets/base",
       "_view_module_version": "1.2.0",
       "_view_name": "LayoutView",
       "align_content": null,
       "align_items": null,
       "align_self": null,
       "border": null,
       "bottom": null,
       "display": null,
       "flex": null,
       "flex_flow": null,
       "grid_area": null,
       "grid_auto_columns": null,
       "grid_auto_flow": null,
       "grid_auto_rows": null,
       "grid_column": null,
       "grid_gap": null,
       "grid_row": null,
       "grid_template_areas": null,
       "grid_template_columns": null,
       "grid_template_rows": null,
       "height": null,
       "justify_content": null,
       "justify_items": null,
       "left": null,
       "margin": null,
       "max_height": null,
       "max_width": null,
       "min_height": null,
       "min_width": null,
       "object_fit": null,
       "object_position": null,
       "order": null,
       "overflow": null,
       "overflow_x": null,
       "overflow_y": null,
       "padding": null,
       "right": null,
       "top": null,
       "visibility": null,
       "width": null
      }
     },
     "92b2b64ef90745b392255b4c673d50ec": {
      "model_module": "@jupyter-widgets/controls",
      "model_module_version": "1.5.0",
      "model_name": "DescriptionStyleModel",
      "state": {
       "_model_module": "@jupyter-widgets/controls",
       "_model_module_version": "1.5.0",
       "_model_name": "DescriptionStyleModel",
       "_view_count": null,
       "_view_module": "@jupyter-widgets/base",
       "_view_module_version": "1.2.0",
       "_view_name": "StyleView",
       "description_width": ""
      }
     },
     "954ee16efcd24d5eafb616862ea3a730": {
      "model_module": "@jupyter-widgets/base",
      "model_module_version": "1.2.0",
      "model_name": "LayoutModel",
      "state": {
       "_model_module": "@jupyter-widgets/base",
       "_model_module_version": "1.2.0",
       "_model_name": "LayoutModel",
       "_view_count": null,
       "_view_module": "@jupyter-widgets/base",
       "_view_module_version": "1.2.0",
       "_view_name": "LayoutView",
       "align_content": null,
       "align_items": null,
       "align_self": null,
       "border": null,
       "bottom": null,
       "display": null,
       "flex": null,
       "flex_flow": null,
       "grid_area": null,
       "grid_auto_columns": null,
       "grid_auto_flow": null,
       "grid_auto_rows": null,
       "grid_column": null,
       "grid_gap": null,
       "grid_row": null,
       "grid_template_areas": null,
       "grid_template_columns": null,
       "grid_template_rows": null,
       "height": null,
       "justify_content": null,
       "justify_items": null,
       "left": null,
       "margin": null,
       "max_height": null,
       "max_width": null,
       "min_height": null,
       "min_width": null,
       "object_fit": null,
       "object_position": null,
       "order": null,
       "overflow": null,
       "overflow_x": null,
       "overflow_y": null,
       "padding": null,
       "right": null,
       "top": null,
       "visibility": null,
       "width": null
      }
     },
     "96f2a1612ff14c0faf22b7b4d0e954b4": {
      "model_module": "@jupyter-widgets/base",
      "model_module_version": "1.2.0",
      "model_name": "LayoutModel",
      "state": {
       "_model_module": "@jupyter-widgets/base",
       "_model_module_version": "1.2.0",
       "_model_name": "LayoutModel",
       "_view_count": null,
       "_view_module": "@jupyter-widgets/base",
       "_view_module_version": "1.2.0",
       "_view_name": "LayoutView",
       "align_content": null,
       "align_items": null,
       "align_self": null,
       "border": null,
       "bottom": null,
       "display": null,
       "flex": null,
       "flex_flow": null,
       "grid_area": null,
       "grid_auto_columns": null,
       "grid_auto_flow": null,
       "grid_auto_rows": null,
       "grid_column": null,
       "grid_gap": null,
       "grid_row": null,
       "grid_template_areas": null,
       "grid_template_columns": null,
       "grid_template_rows": null,
       "height": null,
       "justify_content": null,
       "justify_items": null,
       "left": null,
       "margin": null,
       "max_height": null,
       "max_width": null,
       "min_height": null,
       "min_width": null,
       "object_fit": null,
       "object_position": null,
       "order": null,
       "overflow": null,
       "overflow_x": null,
       "overflow_y": null,
       "padding": null,
       "right": null,
       "top": null,
       "visibility": null,
       "width": null
      }
     },
     "99df2086bb114ffba6387bdbd6ff9705": {
      "model_module": "@jupyter-widgets/controls",
      "model_module_version": "1.5.0",
      "model_name": "DescriptionStyleModel",
      "state": {
       "_model_module": "@jupyter-widgets/controls",
       "_model_module_version": "1.5.0",
       "_model_name": "DescriptionStyleModel",
       "_view_count": null,
       "_view_module": "@jupyter-widgets/base",
       "_view_module_version": "1.2.0",
       "_view_name": "StyleView",
       "description_width": ""
      }
     },
     "9bab4ad6a36b4362b3a01214cb0eeb07": {
      "model_module": "@jupyter-widgets/controls",
      "model_module_version": "1.5.0",
      "model_name": "HTMLModel",
      "state": {
       "_dom_classes": [],
       "_model_module": "@jupyter-widgets/controls",
       "_model_module_version": "1.5.0",
       "_model_name": "HTMLModel",
       "_view_count": null,
       "_view_module": "@jupyter-widgets/controls",
       "_view_module_version": "1.5.0",
       "_view_name": "HTMLView",
       "description": "",
       "description_tooltip": null,
       "layout": "IPY_MODEL_96f2a1612ff14c0faf22b7b4d0e954b4",
       "placeholder": "​",
       "style": "IPY_MODEL_ef05308d2f6d4fc2ad589e55b1e7b215",
       "value": " 1.04G/1.04G [00:23&lt;00:00, 50.3MB/s]"
      }
     },
     "a2b1c60b19bb489f9a659a6835a5c46e": {
      "model_module": "@jupyter-widgets/controls",
      "model_module_version": "1.5.0",
      "model_name": "HTMLModel",
      "state": {
       "_dom_classes": [],
       "_model_module": "@jupyter-widgets/controls",
       "_model_module_version": "1.5.0",
       "_model_name": "HTMLModel",
       "_view_count": null,
       "_view_module": "@jupyter-widgets/controls",
       "_view_module_version": "1.5.0",
       "_view_name": "HTMLView",
       "description": "",
       "description_tooltip": null,
       "layout": "IPY_MODEL_89fd95297c314180989b82cbbcdfc452",
       "placeholder": "​",
       "style": "IPY_MODEL_f9b41abbd7a2476192ce0a0211be0835",
       "value": "Downloading: 100%"
      }
     },
     "a3b3bce846d04b8ab7fb4af2c96a191d": {
      "model_module": "@jupyter-widgets/controls",
      "model_module_version": "1.5.0",
      "model_name": "ProgressStyleModel",
      "state": {
       "_model_module": "@jupyter-widgets/controls",
       "_model_module_version": "1.5.0",
       "_model_name": "ProgressStyleModel",
       "_view_count": null,
       "_view_module": "@jupyter-widgets/base",
       "_view_module_version": "1.2.0",
       "_view_name": "StyleView",
       "bar_color": null,
       "description_width": ""
      }
     },
     "c2063eae04a64f4b84d91343314efb3c": {
      "model_module": "@jupyter-widgets/controls",
      "model_module_version": "1.5.0",
      "model_name": "HBoxModel",
      "state": {
       "_dom_classes": [],
       "_model_module": "@jupyter-widgets/controls",
       "_model_module_version": "1.5.0",
       "_model_name": "HBoxModel",
       "_view_count": null,
       "_view_module": "@jupyter-widgets/controls",
       "_view_module_version": "1.5.0",
       "_view_name": "HBoxView",
       "box_style": "",
       "children": [
        "IPY_MODEL_d6d9a3b3d10f444f929c2c0e41d2c3e3",
        "IPY_MODEL_89894757d31e4f02b7491cb4e2dd1068",
        "IPY_MODEL_fb16f7ed4dce4f12be66397212a16ae9"
       ],
       "layout": "IPY_MODEL_d7f4fabf93104e6091352bb5b380553d"
      }
     },
     "c6c5b773b228413482747e76265ef3da": {
      "model_module": "@jupyter-widgets/base",
      "model_module_version": "1.2.0",
      "model_name": "LayoutModel",
      "state": {
       "_model_module": "@jupyter-widgets/base",
       "_model_module_version": "1.2.0",
       "_model_name": "LayoutModel",
       "_view_count": null,
       "_view_module": "@jupyter-widgets/base",
       "_view_module_version": "1.2.0",
       "_view_name": "LayoutView",
       "align_content": null,
       "align_items": null,
       "align_self": null,
       "border": null,
       "bottom": null,
       "display": null,
       "flex": null,
       "flex_flow": null,
       "grid_area": null,
       "grid_auto_columns": null,
       "grid_auto_flow": null,
       "grid_auto_rows": null,
       "grid_column": null,
       "grid_gap": null,
       "grid_row": null,
       "grid_template_areas": null,
       "grid_template_columns": null,
       "grid_template_rows": null,
       "height": null,
       "justify_content": null,
       "justify_items": null,
       "left": null,
       "margin": null,
       "max_height": null,
       "max_width": null,
       "min_height": null,
       "min_width": null,
       "object_fit": null,
       "object_position": null,
       "order": null,
       "overflow": null,
       "overflow_x": null,
       "overflow_y": null,
       "padding": null,
       "right": null,
       "top": null,
       "visibility": null,
       "width": null
      }
     },
     "d6d9a3b3d10f444f929c2c0e41d2c3e3": {
      "model_module": "@jupyter-widgets/controls",
      "model_module_version": "1.5.0",
      "model_name": "HTMLModel",
      "state": {
       "_dom_classes": [],
       "_model_module": "@jupyter-widgets/controls",
       "_model_module_version": "1.5.0",
       "_model_name": "HTMLModel",
       "_view_count": null,
       "_view_module": "@jupyter-widgets/controls",
       "_view_module_version": "1.5.0",
       "_view_name": "HTMLView",
       "description": "",
       "description_tooltip": null,
       "layout": "IPY_MODEL_46019669483543bf9fabe7ad02bed482",
       "placeholder": "​",
       "style": "IPY_MODEL_99df2086bb114ffba6387bdbd6ff9705",
       "value": "Downloading: 100%"
      }
     },
     "d7d9061a38524ad7917deaee9c589736": {
      "model_module": "@jupyter-widgets/base",
      "model_module_version": "1.2.0",
      "model_name": "LayoutModel",
      "state": {
       "_model_module": "@jupyter-widgets/base",
       "_model_module_version": "1.2.0",
       "_model_name": "LayoutModel",
       "_view_count": null,
       "_view_module": "@jupyter-widgets/base",
       "_view_module_version": "1.2.0",
       "_view_name": "LayoutView",
       "align_content": null,
       "align_items": null,
       "align_self": null,
       "border": null,
       "bottom": null,
       "display": null,
       "flex": null,
       "flex_flow": null,
       "grid_area": null,
       "grid_auto_columns": null,
       "grid_auto_flow": null,
       "grid_auto_rows": null,
       "grid_column": null,
       "grid_gap": null,
       "grid_row": null,
       "grid_template_areas": null,
       "grid_template_columns": null,
       "grid_template_rows": null,
       "height": null,
       "justify_content": null,
       "justify_items": null,
       "left": null,
       "margin": null,
       "max_height": null,
       "max_width": null,
       "min_height": null,
       "min_width": null,
       "object_fit": null,
       "object_position": null,
       "order": null,
       "overflow": null,
       "overflow_x": null,
       "overflow_y": null,
       "padding": null,
       "right": null,
       "top": null,
       "visibility": null,
       "width": null
      }
     },
     "d7f4fabf93104e6091352bb5b380553d": {
      "model_module": "@jupyter-widgets/base",
      "model_module_version": "1.2.0",
      "model_name": "LayoutModel",
      "state": {
       "_model_module": "@jupyter-widgets/base",
       "_model_module_version": "1.2.0",
       "_model_name": "LayoutModel",
       "_view_count": null,
       "_view_module": "@jupyter-widgets/base",
       "_view_module_version": "1.2.0",
       "_view_name": "LayoutView",
       "align_content": null,
       "align_items": null,
       "align_self": null,
       "border": null,
       "bottom": null,
       "display": null,
       "flex": null,
       "flex_flow": null,
       "grid_area": null,
       "grid_auto_columns": null,
       "grid_auto_flow": null,
       "grid_auto_rows": null,
       "grid_column": null,
       "grid_gap": null,
       "grid_row": null,
       "grid_template_areas": null,
       "grid_template_columns": null,
       "grid_template_rows": null,
       "height": null,
       "justify_content": null,
       "justify_items": null,
       "left": null,
       "margin": null,
       "max_height": null,
       "max_width": null,
       "min_height": null,
       "min_width": null,
       "object_fit": null,
       "object_position": null,
       "order": null,
       "overflow": null,
       "overflow_x": null,
       "overflow_y": null,
       "padding": null,
       "right": null,
       "top": null,
       "visibility": null,
       "width": null
      }
     },
     "da8c24b846824e4db1ac6b4fc6e735fa": {
      "model_module": "@jupyter-widgets/base",
      "model_module_version": "1.2.0",
      "model_name": "LayoutModel",
      "state": {
       "_model_module": "@jupyter-widgets/base",
       "_model_module_version": "1.2.0",
       "_model_name": "LayoutModel",
       "_view_count": null,
       "_view_module": "@jupyter-widgets/base",
       "_view_module_version": "1.2.0",
       "_view_name": "LayoutView",
       "align_content": null,
       "align_items": null,
       "align_self": null,
       "border": null,
       "bottom": null,
       "display": null,
       "flex": null,
       "flex_flow": null,
       "grid_area": null,
       "grid_auto_columns": null,
       "grid_auto_flow": null,
       "grid_auto_rows": null,
       "grid_column": null,
       "grid_gap": null,
       "grid_row": null,
       "grid_template_areas": null,
       "grid_template_columns": null,
       "grid_template_rows": null,
       "height": null,
       "justify_content": null,
       "justify_items": null,
       "left": null,
       "margin": null,
       "max_height": null,
       "max_width": null,
       "min_height": null,
       "min_width": null,
       "object_fit": null,
       "object_position": null,
       "order": null,
       "overflow": null,
       "overflow_x": null,
       "overflow_y": null,
       "padding": null,
       "right": null,
       "top": null,
       "visibility": null,
       "width": null
      }
     },
     "e4c5ce2b56974041916de9505eb4467d": {
      "model_module": "@jupyter-widgets/controls",
      "model_module_version": "1.5.0",
      "model_name": "HBoxModel",
      "state": {
       "_dom_classes": [],
       "_model_module": "@jupyter-widgets/controls",
       "_model_module_version": "1.5.0",
       "_model_name": "HBoxModel",
       "_view_count": null,
       "_view_module": "@jupyter-widgets/controls",
       "_view_module_version": "1.5.0",
       "_view_name": "HBoxView",
       "box_style": "",
       "children": [
        "IPY_MODEL_0056f76f91b446a4af09678128f7b609",
        "IPY_MODEL_00c0e689ab5248dc9c6e01a6c1749daf",
        "IPY_MODEL_7ad93522fa834f169a4923ada6d737f5"
       ],
       "layout": "IPY_MODEL_896683e75961445eb82f4db7dcdd1174"
      }
     },
     "e7662898cdcd4588b814de8ff0707e86": {
      "model_module": "@jupyter-widgets/base",
      "model_module_version": "1.2.0",
      "model_name": "LayoutModel",
      "state": {
       "_model_module": "@jupyter-widgets/base",
       "_model_module_version": "1.2.0",
       "_model_name": "LayoutModel",
       "_view_count": null,
       "_view_module": "@jupyter-widgets/base",
       "_view_module_version": "1.2.0",
       "_view_name": "LayoutView",
       "align_content": null,
       "align_items": null,
       "align_self": null,
       "border": null,
       "bottom": null,
       "display": null,
       "flex": null,
       "flex_flow": null,
       "grid_area": null,
       "grid_auto_columns": null,
       "grid_auto_flow": null,
       "grid_auto_rows": null,
       "grid_column": null,
       "grid_gap": null,
       "grid_row": null,
       "grid_template_areas": null,
       "grid_template_columns": null,
       "grid_template_rows": null,
       "height": null,
       "justify_content": null,
       "justify_items": null,
       "left": null,
       "margin": null,
       "max_height": null,
       "max_width": null,
       "min_height": null,
       "min_width": null,
       "object_fit": null,
       "object_position": null,
       "order": null,
       "overflow": null,
       "overflow_x": null,
       "overflow_y": null,
       "padding": null,
       "right": null,
       "top": null,
       "visibility": null,
       "width": null
      }
     },
     "e84a89fe69704a9599417d06e466523a": {
      "model_module": "@jupyter-widgets/controls",
      "model_module_version": "1.5.0",
      "model_name": "ProgressStyleModel",
      "state": {
       "_model_module": "@jupyter-widgets/controls",
       "_model_module_version": "1.5.0",
       "_model_name": "ProgressStyleModel",
       "_view_count": null,
       "_view_module": "@jupyter-widgets/base",
       "_view_module_version": "1.2.0",
       "_view_name": "StyleView",
       "bar_color": null,
       "description_width": ""
      }
     },
     "ef05308d2f6d4fc2ad589e55b1e7b215": {
      "model_module": "@jupyter-widgets/controls",
      "model_module_version": "1.5.0",
      "model_name": "DescriptionStyleModel",
      "state": {
       "_model_module": "@jupyter-widgets/controls",
       "_model_module_version": "1.5.0",
       "_model_name": "DescriptionStyleModel",
       "_view_count": null,
       "_view_module": "@jupyter-widgets/base",
       "_view_module_version": "1.2.0",
       "_view_name": "StyleView",
       "description_width": ""
      }
     },
     "eff92bd9643443079f30459447d16e33": {
      "model_module": "@jupyter-widgets/controls",
      "model_module_version": "1.5.0",
      "model_name": "HTMLModel",
      "state": {
       "_dom_classes": [],
       "_model_module": "@jupyter-widgets/controls",
       "_model_module_version": "1.5.0",
       "_model_name": "HTMLModel",
       "_view_count": null,
       "_view_module": "@jupyter-widgets/controls",
       "_view_module_version": "1.5.0",
       "_view_name": "HTMLView",
       "description": "",
       "description_tooltip": null,
       "layout": "IPY_MODEL_954ee16efcd24d5eafb616862ea3a730",
       "placeholder": "​",
       "style": "IPY_MODEL_339c021835924861933448a94c2f1088",
       "value": "Downloading: 100%"
      }
     },
     "f2668e463ca942208598798e0b93964d": {
      "model_module": "@jupyter-widgets/base",
      "model_module_version": "1.2.0",
      "model_name": "LayoutModel",
      "state": {
       "_model_module": "@jupyter-widgets/base",
       "_model_module_version": "1.2.0",
       "_model_name": "LayoutModel",
       "_view_count": null,
       "_view_module": "@jupyter-widgets/base",
       "_view_module_version": "1.2.0",
       "_view_name": "LayoutView",
       "align_content": null,
       "align_items": null,
       "align_self": null,
       "border": null,
       "bottom": null,
       "display": null,
       "flex": null,
       "flex_flow": null,
       "grid_area": null,
       "grid_auto_columns": null,
       "grid_auto_flow": null,
       "grid_auto_rows": null,
       "grid_column": null,
       "grid_gap": null,
       "grid_row": null,
       "grid_template_areas": null,
       "grid_template_columns": null,
       "grid_template_rows": null,
       "height": null,
       "justify_content": null,
       "justify_items": null,
       "left": null,
       "margin": null,
       "max_height": null,
       "max_width": null,
       "min_height": null,
       "min_width": null,
       "object_fit": null,
       "object_position": null,
       "order": null,
       "overflow": null,
       "overflow_x": null,
       "overflow_y": null,
       "padding": null,
       "right": null,
       "top": null,
       "visibility": null,
       "width": null
      }
     },
     "f70ce06fc3284c9794dcb25595e4d68b": {
      "model_module": "@jupyter-widgets/base",
      "model_module_version": "1.2.0",
      "model_name": "LayoutModel",
      "state": {
       "_model_module": "@jupyter-widgets/base",
       "_model_module_version": "1.2.0",
       "_model_name": "LayoutModel",
       "_view_count": null,
       "_view_module": "@jupyter-widgets/base",
       "_view_module_version": "1.2.0",
       "_view_name": "LayoutView",
       "align_content": null,
       "align_items": null,
       "align_self": null,
       "border": null,
       "bottom": null,
       "display": null,
       "flex": null,
       "flex_flow": null,
       "grid_area": null,
       "grid_auto_columns": null,
       "grid_auto_flow": null,
       "grid_auto_rows": null,
       "grid_column": null,
       "grid_gap": null,
       "grid_row": null,
       "grid_template_areas": null,
       "grid_template_columns": null,
       "grid_template_rows": null,
       "height": null,
       "justify_content": null,
       "justify_items": null,
       "left": null,
       "margin": null,
       "max_height": null,
       "max_width": null,
       "min_height": null,
       "min_width": null,
       "object_fit": null,
       "object_position": null,
       "order": null,
       "overflow": null,
       "overflow_x": null,
       "overflow_y": null,
       "padding": null,
       "right": null,
       "top": null,
       "visibility": null,
       "width": null
      }
     },
     "f77eaad1f9314af09b0364b544699adb": {
      "model_module": "@jupyter-widgets/controls",
      "model_module_version": "1.5.0",
      "model_name": "HTMLModel",
      "state": {
       "_dom_classes": [],
       "_model_module": "@jupyter-widgets/controls",
       "_model_module_version": "1.5.0",
       "_model_name": "HTMLModel",
       "_view_count": null,
       "_view_module": "@jupyter-widgets/controls",
       "_view_module_version": "1.5.0",
       "_view_name": "HTMLView",
       "description": "",
       "description_tooltip": null,
       "layout": "IPY_MODEL_da8c24b846824e4db1ac6b4fc6e735fa",
       "placeholder": "​",
       "style": "IPY_MODEL_2c1913021046462798e47bafcde2c36e",
       "value": " 4.83M/4.83M [00:00&lt;00:00, 11.2MB/s]"
      }
     },
     "f9b41abbd7a2476192ce0a0211be0835": {
      "model_module": "@jupyter-widgets/controls",
      "model_module_version": "1.5.0",
      "model_name": "DescriptionStyleModel",
      "state": {
       "_model_module": "@jupyter-widgets/controls",
       "_model_module_version": "1.5.0",
       "_model_name": "DescriptionStyleModel",
       "_view_count": null,
       "_view_module": "@jupyter-widgets/base",
       "_view_module_version": "1.2.0",
       "_view_name": "StyleView",
       "description_width": ""
      }
     },
     "fb16f7ed4dce4f12be66397212a16ae9": {
      "model_module": "@jupyter-widgets/controls",
      "model_module_version": "1.5.0",
      "model_name": "HTMLModel",
      "state": {
       "_dom_classes": [],
       "_model_module": "@jupyter-widgets/controls",
       "_model_module_version": "1.5.0",
       "_model_name": "HTMLModel",
       "_view_count": null,
       "_view_module": "@jupyter-widgets/controls",
       "_view_module_version": "1.5.0",
       "_view_name": "HTMLView",
       "description": "",
       "description_tooltip": null,
       "layout": "IPY_MODEL_6ff9b3b6bcd84a87837ef9b319b39a0d",
       "placeholder": "​",
       "style": "IPY_MODEL_92b2b64ef90745b392255b4c673d50ec",
       "value": " 615/615 [00:00&lt;00:00, 11.6kB/s]"
      }
     }
    },
    "version_major": 2,
    "version_minor": 0
   }
  }
 },
 "nbformat": 4,
 "nbformat_minor": 5
}
